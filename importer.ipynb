{
 "cells": [
  {
   "cell_type": "code",
   "execution_count": 38,
   "id": "20f1f658",
   "metadata": {},
   "outputs": [],
   "source": [
    "import pyemma.coordinates as coor\n",
    "import numpy as np\n",
    "import pandas as pd\n",
    "import time \n",
    "import matplotlib.pyplot as plt\n",
    "%matplotlib inline\n",
    "import pyemma\n",
    "import mdtraj as md"
   ]
  },
  {
   "cell_type": "code",
   "execution_count": 39,
   "id": "0737bcae",
   "metadata": {},
   "outputs": [],
   "source": [
    "tot_data = [coor.load(f'arrlist_{i:03d}.npy') for i in range(3)]"
   ]
  },
  {
   "cell_type": "code",
   "execution_count": 40,
   "id": "62cc53c2",
   "metadata": {},
   "outputs": [
    {
     "data": {
      "text/plain": [
       "(11, 20)"
      ]
     },
     "execution_count": 40,
     "metadata": {},
     "output_type": "execute_result"
    }
   ],
   "source": [
    "np.shape(tot_data[0])"
   ]
  },
  {
   "cell_type": "code",
   "execution_count": 42,
   "id": "3a7f8583",
   "metadata": {},
   "outputs": [
    {
     "data": {
      "text/plain": [
       "array([[ 19.        ,   0.        ,   0.        ,  13.        ,\n",
       "         25.        ,   0.        ,   0.        ,   9.        ,\n",
       "         20.        ,   0.        ,   0.14719187,   0.16049287,\n",
       "          0.14558569,   0.1496825 ,   0.13328344,   0.16076352,\n",
       "          0.15808257,   0.13984436,   0.139396  ,   0.1503803 ],\n",
       "       [ 46.        ,  16.        ,   0.        ,  19.        ,\n",
       "         17.        ,   0.        ,   0.        ,  21.        ,\n",
       "         22.        ,   0.        ,   0.1432795 ,   0.16512863,\n",
       "          0.16318843,   0.1417056 ,   0.12693761,   0.1605821 ,\n",
       "          0.156375  ,   0.16158001,   0.15040115,   0.15354182],\n",
       "       [ 48.        ,  10.        ,   0.        ,   5.        ,\n",
       "          0.        ,   0.        ,   0.        ,  10.        ,\n",
       "          0.        ,   0.        ,   0.14262521,   0.16133863,\n",
       "          0.15498725,   0.14204256,   0.12948096,   0.16760606,\n",
       "          0.15064456,   0.15827435,   0.13548037,   0.14673208],\n",
       "       [ 26.        ,   0.        ,   0.        ,   7.        ,\n",
       "          0.        ,   0.        ,   0.        ,   4.        ,\n",
       "          0.        ,   0.        ,   0.14506885,   0.15446231,\n",
       "          0.1710843 ,   0.1454742 ,   0.12934817,   0.16909498,\n",
       "          0.16010065,   0.16307706,   0.14783998,   0.1521359 ],\n",
       "       [ 56.        ,  37.        ,   0.        ,   8.        ,\n",
       "         14.        ,   0.        ,   0.        ,  21.        ,\n",
       "          0.        ,   0.        ,   0.15303203,   0.15760697,\n",
       "          0.1579555 ,   0.15177049,   0.13670734,   0.18620157,\n",
       "          0.16812669,   0.16747904,   0.14423986,   0.15728475],\n",
       "       [ 25.        ,   0.        ,   0.        ,   5.        ,\n",
       "         16.        ,   1.        ,   0.        ,  11.        ,\n",
       "         21.        ,   0.        ,   0.15349633,   0.17137544,\n",
       "          0.16455102,   0.15422241,   0.13720916,   0.18096256,\n",
       "          0.1645781 ,   0.17294629,   0.14900592,   0.1637159 ],\n",
       "       [ 40.        ,  23.        ,   0.        ,  21.        ,\n",
       "         15.        ,   0.        ,   0.        ,   9.        ,\n",
       "         44.        ,   3.        ,   0.16187276,   0.16409008,\n",
       "          0.16702262,   0.16605192,   0.14509127,   0.18639207,\n",
       "          0.16544747,   0.17116797,   0.15996896,   0.1714321 ],\n",
       "       [ 63.        ,  53.        ,   0.        ,  40.        ,\n",
       "         16.        ,   0.        ,   0.        ,  60.        ,\n",
       "         31.        ,   0.        ,   0.17277014,   0.18089065,\n",
       "          0.17491077,   0.17439221,   0.15700555,   0.2012058 ,\n",
       "          0.1673584 ,   0.19025148,   0.15505795,   0.17952672],\n",
       "       [110.        ,  49.        ,   0.        ,  11.        ,\n",
       "         12.        ,   0.        ,   0.        ,  21.        ,\n",
       "         56.        ,   0.        ,   0.15074737,   0.15477055,\n",
       "          0.1505077 ,   0.15055305,   0.13502243,   0.17964286,\n",
       "          0.16433373,   0.16649525,   0.13802284,   0.15422155],\n",
       "       [ 87.        ,  49.        ,  21.        ,  34.        ,\n",
       "         26.        ,  20.        ,   0.        ,  13.        ,\n",
       "         42.        ,   1.        ,   0.15883645,   0.16116676,\n",
       "          0.1539704 ,   0.15898871,   0.14409731,   0.19183339,\n",
       "          0.1659543 ,   0.17156325,   0.16466995,   0.16103695],\n",
       "       [ 28.        ,   0.        ,  14.        ,   8.        ,\n",
       "          0.        ,   0.        ,   0.        ,   0.        ,\n",
       "          0.        ,   0.        ,   0.15342948,   0.1671324 ,\n",
       "          0.15900071,   0.15185384,   0.13564324,   0.17847812,\n",
       "          0.1704658 ,   0.18253908,   0.18304023,   0.16635393]],\n",
       "      dtype=float32)"
      ]
     },
     "execution_count": 42,
     "metadata": {},
     "output_type": "execute_result"
    }
   ],
   "source": [
    "tot_data[0]"
   ]
  },
  {
   "cell_type": "code",
   "execution_count": 35,
   "id": "f57538a1",
   "metadata": {},
   "outputs": [
    {
     "data": {
      "application/vnd.jupyter.widget-view+json": {
       "model_id": "e093f21fc9324dccbaef881d1903bb45",
       "version_major": 2,
       "version_minor": 0
      },
      "text/plain": [
       "calculate covariances:   0%|                                                                      | 0/3 [00:00…"
      ]
     },
     "metadata": {},
     "output_type": "display_data"
    },
    {
     "data": {
      "application/vnd.jupyter.widget-view+json": {
       "model_id": "847639c76d0d4711a68782aba56060c9",
       "version_major": 2,
       "version_minor": 0
      },
      "text/plain": [
       "getting output of TICA:   0%|                                                                     | 0/3 [00:00…"
      ]
     },
     "metadata": {},
     "output_type": "display_data"
    }
   ],
   "source": [
    "tica_dev = pyemma.coordinates.tica(tot_data,lag=3,dim=4)\n",
    "tica_out = tica_dev.get_output()\n",
    "tica_concatenated = np.concatenate(tica_out)"
   ]
  },
  {
   "cell_type": "code",
   "execution_count": 36,
   "id": "f52c09a0",
   "metadata": {},
   "outputs": [
    {
     "data": {
      "text/plain": [
       "[array([[-2.0621161 ,  0.47598878,  0.3291198 , -0.403697  ],\n",
       "        [ 0.00670805,  1.6052152 , -1.0441005 , -0.64113957],\n",
       "        [ 0.823643  ,  0.59170216, -2.1157882 ,  0.8433854 ],\n",
       "        [ 2.0975063 , -0.4278127 ,  0.40534732,  0.4715128 ],\n",
       "        [-0.12282924, -1.9352087 , -0.9578816 ,  0.8544778 ],\n",
       "        [-0.77662003, -0.6264043 , -1.9437069 , -0.85955954],\n",
       "        [-2.101268  ,  0.5847447 ,  0.54343724, -0.23442812],\n",
       "        [ 0.22464219,  2.1124856 , -0.55540794, -0.7394548 ],\n",
       "        [ 0.7569992 ,  0.69026816, -1.8062699 ,  0.64278704],\n",
       "        [ 2.0995753 , -0.68877786,  0.70470417,  0.039239  ],\n",
       "        [-0.3181883 , -2.125617  , -0.2416014 ,  0.5002028 ]],\n",
       "       dtype=float32),\n",
       " array([[-0.23197211,  0.38912007,  0.5748636 ,  0.8308665 ],\n",
       "        [-0.7894119 , -0.5677376 ,  2.5052788 , -0.44932327],\n",
       "        [ 0.02255679, -0.63254726,  2.6505063 , -0.34274706],\n",
       "        [ 0.13225625, -0.16093183,  0.27283406, -0.5628323 ],\n",
       "        [ 0.7933025 ,  0.4555704 ,  2.377406  ,  0.44166142]],\n",
       "       dtype=float32),\n",
       " array([[ 0.43395314,  0.60196275,  0.50316167, -0.0623531 ],\n",
       "        [ 0.72194284,  0.41277686,  0.71720076, -1.4884665 ],\n",
       "        [ 0.6189309 , -0.7177989 ,  0.0168944 , -1.9412348 ],\n",
       "        [-0.37672356, -0.8070813 ,  0.3970606 , -0.4777594 ],\n",
       "        [-0.75355333, -0.21192403,  0.31523195,  0.9048877 ],\n",
       "        [-0.52963   ,  0.37512514,  0.04119918,  2.1372416 ],\n",
       "        [ 0.38636154,  1.1069361 ,  0.30216244,  0.8655325 ],\n",
       "        [ 0.7542905 ,  0.06423301, -0.02452019, -0.24405576],\n",
       "        [ 0.5741684 , -0.2566333 , -0.08411602, -2.1492565 ],\n",
       "        [-0.4157238 , -1.3295248 ,  0.3393597 , -1.0172312 ],\n",
       "        [-0.74841976,  0.1542293 , -0.09479068,  0.06060268]],\n",
       "       dtype=float32)]"
      ]
     },
     "execution_count": 36,
     "metadata": {},
     "output_type": "execute_result"
    }
   ],
   "source": [
    "tica_out\n"
   ]
  },
  {
   "cell_type": "code",
   "execution_count": 37,
   "id": "710d41a4",
   "metadata": {},
   "outputs": [
    {
     "data": {
      "image/png": "[encoded data removed]",
      "text/plain": [
       "<Figure size 720x288 with 3 Axes>"
      ]
     },
     "metadata": {
      "needs_background": "light"
     },
     "output_type": "display_data"
    }
   ],
   "source": [
    "fig, axes = plt.subplots(1, 2, figsize=(10, 4))\n",
    "pyemma.plots.plot_feature_histograms(\n",
    "    tica_concatenated,\n",
    "    ax=axes[0],\n",
    "#     feature_labels=['IC1', 'IC2', 'IC3'],\n",
    "    ylog=True, ignore_dim_warning=True)\n",
    "pyemma.plots.plot_density(*tica_concatenated[:, :2].T, ax=axes[1], logscale=True)\n",
    "axes[1].set_xlabel('IC 1')\n",
    "axes[1].set_ylabel('IC 2')\n",
    "fig.tight_layout()\n",
    "# plt.savefig('tica2.png')"
   ]
  },
  {
   "cell_type": "code",
   "execution_count": null,
   "id": "87a18212",
   "metadata": {},
   "outputs": [],
   "source": []
  }
 ],
 "metadata": {
  "kernelspec": {
   "display_name": "Python 3 (ipykernel)",
   "language": "python",
   "name": "python3"
  },
  "language_info": {
   "codemirror_mode": {
    "name": "ipython",
    "version": 3
   },
   "file_extension": ".py",
   "mimetype": "text/x-python",
   "name": "python",
   "nbconvert_exporter": "python",
   "pygments_lexer": "ipython3",
   "version": "3.9.7"
  }
 },
 "nbformat": 4,
 "nbformat_minor": 5
}
