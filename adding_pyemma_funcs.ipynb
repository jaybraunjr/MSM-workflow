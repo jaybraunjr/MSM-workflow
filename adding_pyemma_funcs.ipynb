{
 "cells": [
  {
   "cell_type": "code",
   "execution_count": 1,
   "id": "6603ab79",
   "metadata": {},
   "outputs": [],
   "source": [
    "import itertools\n",
    "import numpy as np\n",
    "import pandas as pd\n",
    "import MDAnalysis as mda\n",
    "import matplotlib as mpl\n",
    "import matplotlib.pyplot as plt\n",
    "import mdtraj as md\n",
    "import pyemma\n",
    "from pyemma.coordinates import source\n",
    "from pyemma.util.contexts import settings"
   ]
  },
  {
   "cell_type": "code",
   "execution_count": 2,
   "id": "eeeb7d41",
   "metadata": {},
   "outputs": [],
   "source": [
    "import featurize.featurize as feat_\n",
    "import featurize.caller as caller"
   ]
  },
  {
   "cell_type": "markdown",
   "id": "0db0e517",
   "metadata": {},
   "source": [
    "loading trajs through pyemma"
   ]
  },
  {
   "cell_type": "code",
   "execution_count": 3,
   "id": "80d99960",
   "metadata": {},
   "outputs": [],
   "source": [
    "from pyemma.coordinates import source\n",
    "files = ['traj_dat/w1.xtc', 'traj_dat/w2.xtc','traj_dat/w3.xtc'] "
   ]
  },
  {
   "cell_type": "code",
   "execution_count": 4,
   "id": "7322c636",
   "metadata": {},
   "outputs": [],
   "source": [
    "feat = pyemma.coordinates.featurizer('traj_dat/10.gro') \n",
    "feat.add_backbone_torsions() \n",
    "reader = pyemma.coordinates.source(files, features=feat) \n",
    "data_output = reader.get_output()"
   ]
  },
  {
   "cell_type": "code",
   "execution_count": 10,
   "id": "49795606",
   "metadata": {},
   "outputs": [],
   "source": [
    "def load_trajectories(traj_files, top_file):\n",
    "    \"\"\"Load molecular dynamics simulation trajectories.\"\"\"\n",
    "    traj = md.load(traj_files, top=top_file)\n",
    "    return traj\n",
    "\n",
    "def extract_features(traj_files, top_file):\n",
    "    \"\"\"Extract features from trajectories.\"\"\"\n",
    "    tr = top_file\n",
    "    feat_ = caller.feature(tr)\n",
    "    reader = pyemma.coordinates.source(traj_files, features=feat_)\n",
    "    return reader\n"
   ]
  },
  {
   "cell_type": "code",
   "execution_count": 11,
   "id": "5ae125c2",
   "metadata": {},
   "outputs": [],
   "source": [
    "# Load molecular dynamics simulation trajectories\n",
    "traj_files = ['traj_dat/w1.xtc', 'traj_dat/w2.xtc', 'traj_dat/w3.xtc']\n",
    "top_file = 'traj_dat/10.gro'\n",
    "traj = load_trajectories(traj_files, top_file)\n",
    "\n",
    "# Extract features from trajectories\n",
    "reader = extract_features(traj_files, top_file)"
   ]
  },
  {
   "cell_type": "code",
   "execution_count": 12,
   "id": "b31be5ba",
   "metadata": {},
   "outputs": [
    {
     "name": "stdout",
     "output_type": "stream",
     "text": [
      "traj_dat/w1.xtc\n",
      "traj_dat/w2.xtc\n",
      "traj_dat/w3.xtc\n"
     ]
    }
   ],
   "source": [
    "n_list = []\n",
    "ls = []\n",
    "for item in files:\n",
    "    n_list.append(md.load(item, top='traj_dat/10.gro'))\n",
    "    u_ = mda.Universe('traj_dat/10.gro', item)\n",
    "    ls.append(u_)\n",
    "    print(item)"
   ]
  },
  {
   "cell_type": "code",
   "execution_count": 34,
   "id": "9cfd4a43",
   "metadata": {},
   "outputs": [],
   "source": [
    "universes = [mda.Universe('traj_dat/10.gro', traj_mda) for traj_mda in files]\n",
    "\n",
    "# Define lipid and protein selections\n",
    "lipid_selection = '(resname POPC DOPE SAPI)'\n",
    "prot_selections = [f\"(resid {i}) and (not backbone)\" for i in range(1, 36)]\n",
    "\n",
    "# Initialize contact analysis class\n",
    "contact_analysis = feat_.cont()\n",
    "\n",
    "# Run analysis for each trajectory and each protein selection\n",
    "results = []\n",
    "for universe in universes:\n",
    "    for prot_sel in prot_selections:\n",
    "        result = contact_analysis.contacts_MDA(universe, universe.select_atoms(prot_sel), universe.select_atoms(lipid_selection))\n",
    "        results.append(result)"
   ]
  },
  {
   "cell_type": "code",
   "execution_count": 52,
   "id": "b8c8a9e6",
   "metadata": {},
   "outputs": [
    {
     "data": {
      "text/plain": [
       "(105,)"
      ]
     },
     "execution_count": 52,
     "metadata": {},
     "output_type": "execute_result"
    }
   ],
   "source": [
    "np.shape(results)\n"
   ]
  },
  {
   "cell_type": "code",
   "execution_count": 102,
   "id": "6631e5e0",
   "metadata": {},
   "outputs": [
    {
     "name": "stderr",
     "output_type": "stream",
     "text": [
      "/home/jaybraun/miniconda3/lib/python3.9/site-packages/numpy/core/fromnumeric.py:43: VisibleDeprecationWarning: Creating an ndarray from ragged nested sequences (which is a list-or-tuple of lists-or-tuples-or ndarrays with different lengths or shapes) is deprecated. If you meant to do this, you must specify 'dtype=object' when creating the ndarray.\n",
      "  result = getattr(asarray(obj), method)(*args, **kwds)\n"
     ]
    }
   ],
   "source": [
    "# splits breaks it into the correct amount of trajectories\n",
    "splits1 = np.array_split(results, 3)\n",
    "\n",
    "# here we are pushing to have the whole thing reshaped\n",
    "processor1 = caller.ChunkProcessor(splits1, 35)\n",
    "\n",
    "m1 = processor1.fubar(splits1, 35)"
   ]
  },
  {
   "cell_type": "code",
   "execution_count": 103,
   "id": "ec518789",
   "metadata": {
    "scrolled": true
   },
   "outputs": [
    {
     "name": "stdout",
     "output_type": "stream",
     "text": [
      "(1, 1, 35, 11)\n",
      "(1, 1, 35, 5)\n",
      "(1, 1, 35, 11)\n"
     ]
    }
   ],
   "source": [
    "processors = [caller.ReturnInputs() for _ in range(3)]\n",
    "inputs = [processor.return_inputs(m1, i, 35) for i, processor in enumerate(processors)]\n",
    "new_inputs = [np.array(input).reshape(-1) for input in inputs]\n"
   ]
  },
  {
   "cell_type": "code",
   "execution_count": 109,
   "id": "f0090243",
   "metadata": {},
   "outputs": [
    {
     "name": "stdout",
     "output_type": "stream",
     "text": [
      "(1, 1, 35, 11)\n",
      "(1, 1, 35, 5)\n",
      "(1, 1, 35, 11)\n"
     ]
    }
   ],
   "source": [
    "processors = [caller.ReturnInputs() for _ in range(3)]\n",
    "inputs = [processor.return_inputs(m1, i, 35) for i, processor in enumerate(processors)]"
   ]
  },
  {
   "cell_type": "code",
   "execution_count": 147,
   "id": "2df95bfc",
   "metadata": {
    "scrolled": false
   },
   "outputs": [
    {
     "name": "stdout",
     "output_type": "stream",
     "text": [
      "(1, 1, 35, 11)\n",
      "(1, 1, 35, 5)\n",
      "(1, 1, 35, 11)\n"
     ]
    }
   ],
   "source": [
    "def return_inputs(m, i, n):\n",
    "    return caller.ReturnInputs().return_inputs(m, i, n)\n",
    "\n",
    "processors = [caller.ReturnInputs() for i in range(3)]\n",
    "inputs = [processor.return_inputs(m1, i, 35) for i, processor in enumerate(processors)]\n",
    "inputs = [x[0] for x in inputs]\n"
   ]
  },
  {
   "cell_type": "code",
   "execution_count": 153,
   "id": "be54a9b5",
   "metadata": {},
   "outputs": [],
   "source": [
    "result_list = []\n",
    "for i in range(3):\n",
    "    arr1 = data_output[i]\n",
    "    arr2 = inputs[i]\n",
    "    result = np.concatenate((arr1, arr2), axis=1)\n",
    "    result_list.append(result)"
   ]
  },
  {
   "cell_type": "code",
   "execution_count": 154,
   "id": "3ca8b803",
   "metadata": {},
   "outputs": [
    {
     "name": "stderr",
     "output_type": "stream",
     "text": [
      "/home/jaybraun/miniconda3/lib/python3.9/site-packages/numpy/core/fromnumeric.py:2007: VisibleDeprecationWarning: Creating an ndarray from ragged nested sequences (which is a list-or-tuple of lists-or-tuples-or ndarrays with different lengths or shapes) is deprecated. If you meant to do this, you must specify 'dtype=object' when creating the ndarray.\n",
      "  result = asarray(a).shape\n"
     ]
    },
    {
     "data": {
      "text/plain": [
       "(3,)"
      ]
     },
     "execution_count": 154,
     "metadata": {},
     "output_type": "execute_result"
    }
   ],
   "source": [
    "np.shape(result_list)"
   ]
  },
  {
   "cell_type": "code",
   "execution_count": 155,
   "id": "8712fad2",
   "metadata": {},
   "outputs": [
    {
     "data": {
      "application/vnd.jupyter.widget-view+json": {
       "model_id": "18a2362a63ba42fd9949cdb0c64c24ea",
       "version_major": 2,
       "version_minor": 0
      },
      "text/plain": [
       "calculate covariances:   0%|                                                                                  …"
      ]
     },
     "metadata": {},
     "output_type": "display_data"
    },
    {
     "data": {
      "application/vnd.jupyter.widget-view+json": {
       "model_id": "d459e3913d6e4dc888816a7b47f66a78",
       "version_major": 2,
       "version_minor": 0
      },
      "text/plain": [
       "getting output of TICA:   0%|                                                                                 …"
      ]
     },
     "metadata": {},
     "output_type": "display_data"
    }
   ],
   "source": [
    "tica_dev = pyemma.coordinates.tica(conts,lag=1,dim=4)\n",
    "tica_out = tica_dev.get_output()\n",
    "tica_concatenated = np.concatenate(tica_out)"
   ]
  },
  {
   "cell_type": "code",
   "execution_count": 156,
   "id": "d1e383f4",
   "metadata": {},
   "outputs": [],
   "source": [
    "ls = caller.make_arr(tica_concatenated)"
   ]
  },
  {
   "cell_type": "code",
   "execution_count": 157,
   "id": "2bbf736e",
   "metadata": {},
   "outputs": [
    {
     "data": {
      "image/png": "[encoded data removed]",
      "text/plain": [
       "<Figure size 720x288 with 3 Axes>"
      ]
     },
     "metadata": {
      "needs_background": "light"
     },
     "output_type": "display_data"
    }
   ],
   "source": [
    "fig, axes = plt.subplots(1, 2, figsize=(10, 4))\n",
    "pyemma.plots.plot_feature_histograms(\n",
    "    ls,\n",
    "    ax=axes[0],\n",
    "#     feature_labels=['IC1', 'IC2', 'IC3'],\n",
    "    ylog=True, ignore_dim_warning=True)\n",
    "pyemma.plots.plot_density(*ls[:, :2].T, ax=axes[1], logscale=True)\n",
    "axes[1].set_xlabel('IC 1')\n",
    "axes[1].set_ylabel('IC 2')\n",
    "fig.tight_layout()\n",
    "# plt.savefig('tica2.png')"
   ]
  },
  {
   "cell_type": "code",
   "execution_count": null,
   "id": "e1e6f837",
   "metadata": {},
   "outputs": [],
   "source": []
  }
 ],
 "metadata": {
  "kernelspec": {
   "display_name": "Python 3 (ipykernel)",
   "language": "python",
   "name": "python3"
  },
  "language_info": {
   "codemirror_mode": {
    "name": "ipython",
    "version": 3
   },
   "file_extension": ".py",
   "mimetype": "text/x-python",
   "name": "python",
   "nbconvert_exporter": "python",
   "pygments_lexer": "ipython3",
   "version": "3.9.7"
  }
 },
 "nbformat": 4,
 "nbformat_minor": 5
}
