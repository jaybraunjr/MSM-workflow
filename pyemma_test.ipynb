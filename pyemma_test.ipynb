{
 "cells": [
  {
   "cell_type": "code",
   "execution_count": 2,
   "id": "bc69e7eb",
   "metadata": {},
   "outputs": [],
   "source": [
    "import itertools\n",
    "import numpy as np\n",
    "import pandas as pd\n",
    "import MDAnalysis as mda\n",
    "import matplotlib as mpl\n",
    "import matplotlib.pyplot as plt\n",
    "import mdtraj as md\n",
    "import pyemma\n",
    "from pyemma.coordinates import source\n",
    "from pyemma.util.contexts import settings"
   ]
  },
  {
   "cell_type": "code",
   "execution_count": 3,
   "id": "a1c2db38",
   "metadata": {},
   "outputs": [],
   "source": [
    "files = ['traj_dat/whole.1.xtc'] "
   ]
  },
  {
   "cell_type": "code",
   "execution_count": 4,
   "id": "959c1adb",
   "metadata": {},
   "outputs": [],
   "source": [
    "featurizer = pyemma.coordinates.featurizer('traj_dat/10.gro')"
   ]
  },
  {
   "cell_type": "code",
   "execution_count": 5,
   "id": "60ddf873",
   "metadata": {
    "scrolled": true
   },
   "outputs": [],
   "source": [
    "ca = featurizer.select_Ca()\n",
    "len(ca)\n",
    "featurizer.add_selection(ca)"
   ]
  },
  {
   "cell_type": "code",
   "execution_count": 6,
   "id": "7e8a0907",
   "metadata": {},
   "outputs": [
    {
     "data": {
      "text/plain": [
       "37"
      ]
     },
     "execution_count": 6,
     "metadata": {},
     "output_type": "execute_result"
    }
   ],
   "source": [
    "len(ca)"
   ]
  },
  {
   "cell_type": "code",
   "execution_count": 7,
   "id": "8217e5bc",
   "metadata": {},
   "outputs": [
    {
     "data": {
      "text/plain": [
       "['ATOM:PHE 1 CA 8 x',\n",
       " 'ATOM:PHE 1 CA 8 y',\n",
       " 'ATOM:PHE 1 CA 8 z',\n",
       " 'ATOM:GLN 2 CA 28 x',\n",
       " 'ATOM:GLN 2 CA 28 y',\n",
       " 'ATOM:GLN 2 CA 28 z',\n",
       " 'ATOM:GLU 3 CA 45 x',\n",
       " 'ATOM:GLU 3 CA 45 y',\n",
       " 'ATOM:GLU 3 CA 45 z',\n",
       " 'ATOM:LEU 4 CA 60 x',\n",
       " 'ATOM:LEU 4 CA 60 y',\n",
       " 'ATOM:LEU 4 CA 60 z',\n",
       " 'ATOM:SER 5 CA 79 x',\n",
       " 'ATOM:SER 5 CA 79 y',\n",
       " 'ATOM:SER 5 CA 79 z',\n",
       " 'ATOM:ALA 6 CA 90 x',\n",
       " 'ATOM:ALA 6 CA 90 y',\n",
       " 'ATOM:ALA 6 CA 90 z',\n",
       " 'ATOM:CYS 7 CA 100 x',\n",
       " 'ATOM:CYS 7 CA 100 y',\n",
       " 'ATOM:CYS 7 CA 100 z',\n",
       " 'ATOM:VAL 8 CA 111 x',\n",
       " 'ATOM:VAL 8 CA 111 y',\n",
       " 'ATOM:VAL 8 CA 111 z',\n",
       " 'ATOM:PHE 9 CA 127 x',\n",
       " 'ATOM:PHE 9 CA 127 y',\n",
       " 'ATOM:PHE 9 CA 127 z',\n",
       " 'ATOM:SER 10 CA 147 x',\n",
       " 'ATOM:SER 10 CA 147 y',\n",
       " 'ATOM:SER 10 CA 147 z',\n",
       " 'ATOM:TRP 11 CA 158 x',\n",
       " 'ATOM:TRP 11 CA 158 y',\n",
       " 'ATOM:TRP 11 CA 158 z',\n",
       " 'ATOM:ILE 12 CA 182 x',\n",
       " 'ATOM:ILE 12 CA 182 y',\n",
       " 'ATOM:ILE 12 CA 182 z',\n",
       " 'ATOM:GLU 13 CA 201 x',\n",
       " 'ATOM:GLU 13 CA 201 y',\n",
       " 'ATOM:GLU 13 CA 201 z',\n",
       " 'ATOM:GLU 14 CA 216 x',\n",
       " 'ATOM:GLU 14 CA 216 y',\n",
       " 'ATOM:GLU 14 CA 216 z',\n",
       " 'ATOM:HIS 15 CA 231 x',\n",
       " 'ATOM:HIS 15 CA 231 y',\n",
       " 'ATOM:HIS 15 CA 231 z',\n",
       " 'ATOM:CYS 16 CA 248 x',\n",
       " 'ATOM:CYS 16 CA 248 y',\n",
       " 'ATOM:CYS 16 CA 248 z',\n",
       " 'ATOM:LYS 17 CA 259 x',\n",
       " 'ATOM:LYS 17 CA 259 y',\n",
       " 'ATOM:LYS 17 CA 259 z',\n",
       " 'ATOM:PRO 18 CA 283 x',\n",
       " 'ATOM:PRO 18 CA 283 y',\n",
       " 'ATOM:PRO 18 CA 283 z',\n",
       " 'ATOM:GLN 19 CA 295 x',\n",
       " 'ATOM:GLN 19 CA 295 y',\n",
       " 'ATOM:GLN 19 CA 295 z',\n",
       " 'ATOM:THR 20 CA 312 x',\n",
       " 'ATOM:THR 20 CA 312 y',\n",
       " 'ATOM:THR 20 CA 312 z',\n",
       " 'ATOM:LEU 21 CA 326 x',\n",
       " 'ATOM:LEU 21 CA 326 y',\n",
       " 'ATOM:LEU 21 CA 326 z',\n",
       " 'ATOM:ARG 22 CA 345 x',\n",
       " 'ATOM:ARG 22 CA 345 y',\n",
       " 'ATOM:ARG 22 CA 345 z',\n",
       " 'ATOM:GLU 23 CA 369 x',\n",
       " 'ATOM:GLU 23 CA 369 y',\n",
       " 'ATOM:GLU 23 CA 369 z',\n",
       " 'ATOM:ILE 24 CA 384 x',\n",
       " 'ATOM:ILE 24 CA 384 y',\n",
       " 'ATOM:ILE 24 CA 384 z',\n",
       " 'ATOM:VAL 25 CA 403 x',\n",
       " 'ATOM:VAL 25 CA 403 y',\n",
       " 'ATOM:VAL 25 CA 403 z',\n",
       " 'ATOM:ILE 26 CA 419 x',\n",
       " 'ATOM:ILE 26 CA 419 y',\n",
       " 'ATOM:ILE 26 CA 419 z',\n",
       " 'ATOM:GLY 27 CA 438 x',\n",
       " 'ATOM:GLY 27 CA 438 y',\n",
       " 'ATOM:GLY 27 CA 438 z',\n",
       " 'ATOM:VAL 28 CA 445 x',\n",
       " 'ATOM:VAL 28 CA 445 y',\n",
       " 'ATOM:VAL 28 CA 445 z',\n",
       " 'ATOM:LEU 29 CA 461 x',\n",
       " 'ATOM:LEU 29 CA 461 y',\n",
       " 'ATOM:LEU 29 CA 461 z',\n",
       " 'ATOM:HIS 30 CA 480 x',\n",
       " 'ATOM:HIS 30 CA 480 y',\n",
       " 'ATOM:HIS 30 CA 480 z',\n",
       " 'ATOM:GLN 31 CA 497 x',\n",
       " 'ATOM:GLN 31 CA 497 y',\n",
       " 'ATOM:GLN 31 CA 497 z',\n",
       " 'ATOM:LEU 32 CA 514 x',\n",
       " 'ATOM:LEU 32 CA 514 y',\n",
       " 'ATOM:LEU 32 CA 514 z',\n",
       " 'ATOM:LYS 33 CA 533 x',\n",
       " 'ATOM:LYS 33 CA 533 y',\n",
       " 'ATOM:LYS 33 CA 533 z',\n",
       " 'ATOM:ASN 34 CA 555 x',\n",
       " 'ATOM:ASN 34 CA 555 y',\n",
       " 'ATOM:ASN 34 CA 555 z',\n",
       " 'ATOM:GLN 35 CA 569 x',\n",
       " 'ATOM:GLN 35 CA 569 y',\n",
       " 'ATOM:GLN 35 CA 569 z',\n",
       " 'ATOM:LEU 36 CA 586 x',\n",
       " 'ATOM:LEU 36 CA 586 y',\n",
       " 'ATOM:LEU 36 CA 586 z',\n",
       " 'ATOM:TYR 37 CA 605 x',\n",
       " 'ATOM:TYR 37 CA 605 y',\n",
       " 'ATOM:TYR 37 CA 605 z']"
      ]
     },
     "execution_count": 7,
     "metadata": {},
     "output_type": "execute_result"
    }
   ],
   "source": [
    "featurizer.describe()"
   ]
  },
  {
   "cell_type": "code",
   "execution_count": 8,
   "id": "17ca14ad",
   "metadata": {},
   "outputs": [],
   "source": [
    "\n",
    "Y = pyemma.coordinates.load(files, featurizer)"
   ]
  },
  {
   "cell_type": "code",
   "execution_count": 37,
   "id": "6aa6119d",
   "metadata": {},
   "outputs": [
    {
     "data": {
      "text/plain": [
       "(11, 111)"
      ]
     },
     "execution_count": 37,
     "metadata": {},
     "output_type": "execute_result"
    }
   ],
   "source": [
    "np.shape(Y)"
   ]
  },
  {
   "cell_type": "code",
   "execution_count": 17,
   "id": "37ea9ebd",
   "metadata": {},
   "outputs": [],
   "source": [
    "np.savez(\"ca.npz\", Y)"
   ]
  },
  {
   "cell_type": "code",
   "execution_count": 26,
   "id": "5e4d5bee",
   "metadata": {},
   "outputs": [],
   "source": [
    "data = np.load(\"ca.npz\")"
   ]
  },
  {
   "cell_type": "code",
   "execution_count": 27,
   "id": "668f25d2",
   "metadata": {},
   "outputs": [
    {
     "data": {
      "text/plain": [
       "<numpy.lib.npyio.NpzFile at 0x7fac50044d60>"
      ]
     },
     "execution_count": 27,
     "metadata": {},
     "output_type": "execute_result"
    }
   ],
   "source": [
    "data"
   ]
  },
  {
   "cell_type": "code",
   "execution_count": 30,
   "id": "83ad62f8",
   "metadata": {
    "scrolled": true
   },
   "outputs": [
    {
     "data": {
      "text/plain": [
       "array([[ 3.7580001 ,  5.017     , 19.085001  , ...,  3.565     ,\n",
       "         4.9680004 , 19.655     ],\n",
       "       [ 6.0920005 ,  0.284     , 18.902     , ...,  6.9370003 ,\n",
       "        -0.51100004, 18.731     ],\n",
       "       [ 0.42200002,  3.6250002 , 19.261002  , ...,  1.6270001 ,\n",
       "         3.1850002 , 19.391     ],\n",
       "       ...,\n",
       "       [ 2.292     ,  6.281     , 18.735     , ...,  3.016     ,\n",
       "         6.9690003 , 19.095001  ],\n",
       "       [ 2.6780002 ,  6.9730005 , 18.287     , ...,  3.15      ,\n",
       "         8.065001  , 18.635     ],\n",
       "       [-0.136     ,  9.123     , 18.036001  , ...,  1.082     ,\n",
       "         9.753     , 18.377     ]], dtype=float32)"
      ]
     },
     "execution_count": 30,
     "metadata": {},
     "output_type": "execute_result"
    }
   ],
   "source": [
    "data['arr_0']"
   ]
  },
  {
   "cell_type": "code",
   "execution_count": 31,
   "id": "e1a62def",
   "metadata": {},
   "outputs": [
    {
     "data": {
      "text/plain": [
       "(11, 111)"
      ]
     },
     "execution_count": 31,
     "metadata": {},
     "output_type": "execute_result"
    }
   ],
   "source": [
    "np.shape(data['arr_0'])"
   ]
  },
  {
   "cell_type": "code",
   "execution_count": 28,
   "id": "04b85678",
   "metadata": {},
   "outputs": [],
   "source": [
    "j = np.array(data)"
   ]
  },
  {
   "cell_type": "code",
   "execution_count": 29,
   "id": "d36674d4",
   "metadata": {},
   "outputs": [
    {
     "data": {
      "text/plain": [
       "array(['arr_0'], dtype='<U5')"
      ]
     },
     "execution_count": 29,
     "metadata": {},
     "output_type": "execute_result"
    }
   ],
   "source": [
    "j"
   ]
  },
  {
   "cell_type": "code",
   "execution_count": null,
   "id": "e05e9794",
   "metadata": {},
   "outputs": [],
   "source": [
    "np.shape(l)"
   ]
  },
  {
   "cell_type": "code",
   "execution_count": 2,
   "id": "6f124931",
   "metadata": {},
   "outputs": [],
   "source": [
    "from pyemma.coordinates import source\n",
    "files = ['traj_dat/w1.xtc', 'traj_dat/w2.xtc','traj_dat/w3.xtc'] \n",
    "# output = load(files, top='traj_dat/10.gro') \n",
    "# reader = source(files, top='traj_dat/10.gro') \n"
   ]
  },
  {
   "cell_type": "code",
   "execution_count": 3,
   "id": "3cdbca17",
   "metadata": {},
   "outputs": [],
   "source": [
    "feat = pyemma.coordinates.featurizer('traj_dat/10.gro') \n"
   ]
  },
  {
   "cell_type": "code",
   "execution_count": 6,
   "id": "3c9c9be1",
   "metadata": {},
   "outputs": [],
   "source": [
    "feat.add_backbone_torsions() "
   ]
  },
  {
   "cell_type": "code",
   "execution_count": 1,
   "id": "a681eb81",
   "metadata": {},
   "outputs": [
    {
     "ename": "NameError",
     "evalue": "name 'feat' is not defined",
     "output_type": "error",
     "traceback": [
      "\u001b[0;31m---------------------------------------------------------------------------\u001b[0m",
      "\u001b[0;31mNameError\u001b[0m                                 Traceback (most recent call last)",
      "Input \u001b[0;32mIn [1]\u001b[0m, in \u001b[0;36m<cell line: 1>\u001b[0;34m()\u001b[0m\n\u001b[0;32m----> 1\u001b[0m \u001b[43mfeat\u001b[49m\u001b[38;5;241m.\u001b[39mdimension()\n",
      "\u001b[0;31mNameError\u001b[0m: name 'feat' is not defined"
     ]
    }
   ],
   "source": [
    "feat.dimension()"
   ]
  },
  {
   "cell_type": "code",
   "execution_count": 4,
   "id": "ead7131e",
   "metadata": {},
   "outputs": [],
   "source": [
    "feat.add_distances_ca()"
   ]
  },
  {
   "cell_type": "code",
   "execution_count": 5,
   "id": "02907651",
   "metadata": {
    "scrolled": true
   },
   "outputs": [
    {
     "data": {
      "text/plain": [
       "595"
      ]
     },
     "execution_count": 5,
     "metadata": {},
     "output_type": "execute_result"
    }
   ],
   "source": [
    "feat.dimension()"
   ]
  },
  {
   "cell_type": "code",
   "execution_count": 8,
   "id": "868062ab",
   "metadata": {},
   "outputs": [
    {
     "data": {
      "application/vnd.jupyter.widget-view+json": {
       "model_id": "4687ace3a673480c9136d64bfdff54e0",
       "version_major": 2,
       "version_minor": 0
      },
      "text/plain": [
       "Obtaining file info:   0%|                                                                                    …"
      ]
     },
     "metadata": {},
     "output_type": "display_data"
    }
   ],
   "source": [
    "reader = pyemma.coordinates.source(files, features=feat) "
   ]
  },
  {
   "cell_type": "code",
   "execution_count": 9,
   "id": "171eb3fe",
   "metadata": {},
   "outputs": [
    {
     "data": {
      "application/vnd.jupyter.widget-view+json": {
       "model_id": "aff6f90a2aa54851a75c020dfcb80cbc",
       "version_major": 2,
       "version_minor": 0
      },
      "text/plain": [
       "getting output of FeatureReader:   0%|                                                                        …"
      ]
     },
     "metadata": {},
     "output_type": "display_data"
    }
   ],
   "source": [
    "data_output = reader.get_output()"
   ]
  },
  {
   "cell_type": "code",
   "execution_count": 14,
   "id": "1db56a1f",
   "metadata": {},
   "outputs": [
    {
     "data": {
      "text/plain": [
       "(11, 667)"
      ]
     },
     "execution_count": 14,
     "metadata": {},
     "output_type": "execute_result"
    }
   ],
   "source": [
    "np.shape(data_output[2])"
   ]
  },
  {
   "cell_type": "code",
   "execution_count": 11,
   "id": "33b4ece0",
   "metadata": {},
   "outputs": [
    {
     "data": {
      "text/plain": [
       "[array([[ 0.5843545 ,  0.9246133 ,  1.0725458 , ..., -0.62254584,\n",
       "         -1.3846753 ,  0.3934557 ],\n",
       "        [ 0.52770734,  0.5744497 ,  0.8455974 , ..., -0.16713601,\n",
       "         -1.3863283 ,  0.5802627 ],\n",
       "        [ 0.5536138 ,  0.586697  ,  0.8510445 , ...,  0.25810155,\n",
       "         -1.3362392 ,  0.28615025],\n",
       "        ...,\n",
       "        [ 0.5300725 ,  0.59971744,  0.8713331 , ...,  2.4919052 ,\n",
       "         -1.7392255 ,  1.967013  ],\n",
       "        [ 0.5117141 ,  0.6142876 ,  0.8580643 , ...,  0.06306417,\n",
       "         -1.540379  ,  2.3592765 ],\n",
       "        [ 0.49560574,  0.60729825,  0.86870605, ..., -0.48589185,\n",
       "         -1.2053694 , -0.74302804]], dtype=float32),\n",
       " array([[ 0.57134974,  0.903224  ,  1.0449815 , ..., -0.07888456,\n",
       "         -1.6634555 ,  0.55657244],\n",
       "        [ 0.53450084,  0.59708065,  0.85895807, ..., -0.7821259 ,\n",
       "         -1.9395515 , -0.99205863],\n",
       "        [ 0.5567982 ,  0.63599145,  0.86135507, ..., -0.3398103 ,\n",
       "         -1.0319118 , -0.8173503 ],\n",
       "        [ 0.5173954 ,  0.5897235 ,  0.84801   , ...,  0.35623315,\n",
       "         -1.5699584 ,  0.353558  ],\n",
       "        [ 0.50040996,  0.78849816,  0.9822285 , ..., -0.01484977,\n",
       "         -1.8384538 ,  0.50051504]], dtype=float32),\n",
       " array([[ 0.5866992 ,  0.92298925,  1.103134  , ..., -0.14667489,\n",
       "         -1.5884194 ,  0.3270552 ],\n",
       "        [ 0.48735386,  0.6146272 ,  0.85838085, ...,  0.16486077,\n",
       "         -1.7535546 ,  0.14993869],\n",
       "        [ 0.47133642,  0.5996515 ,  0.85442394, ...,  0.26366508,\n",
       "         -1.3407463 ,  0.6552444 ],\n",
       "        ...,\n",
       "        [ 0.58667624,  0.6505578 ,  0.90363425, ..., -0.56048894,\n",
       "         -1.8514091 , -0.64513695],\n",
       "        [ 0.52362305,  0.60573363,  0.8571027 , ..., -0.7820244 ,\n",
       "         -1.5592992 , -0.94545615],\n",
       "        [ 0.5550325 ,  0.61937463,  0.8792535 , ..., -0.65536827,\n",
       "         -1.388082  , -0.88378686]], dtype=float32)]"
      ]
     },
     "execution_count": 11,
     "metadata": {},
     "output_type": "execute_result"
    }
   ],
   "source": [
    "data_output"
   ]
  },
  {
   "cell_type": "code",
   "execution_count": null,
   "id": "936c5aa0",
   "metadata": {},
   "outputs": [],
   "source": []
  }
 ],
 "metadata": {
  "kernelspec": {
   "display_name": "Python 3 (ipykernel)",
   "language": "python",
   "name": "python3"
  },
  "language_info": {
   "codemirror_mode": {
    "name": "ipython",
    "version": 3
   },
   "file_extension": ".py",
   "mimetype": "text/x-python",
   "name": "python",
   "nbconvert_exporter": "python",
   "pygments_lexer": "ipython3",
   "version": "3.9.7"
  }
 },
 "nbformat": 4,
 "nbformat_minor": 5
}
