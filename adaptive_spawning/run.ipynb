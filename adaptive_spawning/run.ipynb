{
 "cells": [
  {
   "cell_type": "code",
   "execution_count": 1,
   "id": "fc56f742",
   "metadata": {},
   "outputs": [],
   "source": [
    "import MDAnalysis as mda\n",
    "from MDAnalysis.analysis import encore\n",
    "import sklearn\n",
    "import pyemma.coordinates as coor\n",
    "import pyemma\n",
    "import numpy as np\n",
    "import mdtraj as md\n",
    "import pandas as pd"
   ]
  },
  {
   "cell_type": "markdown",
   "id": "ad84d028",
   "metadata": {},
   "source": [
    "First we will import the numpy array data"
   ]
  },
  {
   "cell_type": "code",
   "execution_count": 2,
   "id": "139dba73",
   "metadata": {},
   "outputs": [],
   "source": [
    "data = [coor.load(f'reader_{i:03d}_out.npy') for i in range(3)]"
   ]
  },
  {
   "cell_type": "code",
   "execution_count": 32,
   "id": "e4adf416",
   "metadata": {},
   "outputs": [],
   "source": [
    "import adaptive_spawning.cluster as cl"
   ]
  },
  {
   "cell_type": "code",
   "execution_count": 4,
   "id": "5b881ba0",
   "metadata": {},
   "outputs": [
    {
     "data": {
      "application/vnd.jupyter.widget-view+json": {
       "model_id": "3d34b122be91430d9dcabc4c6093f6a9",
       "version_major": 2,
       "version_minor": 0
      },
      "text/plain": [
       "calculate covariances:   0%|                                                | 0/3 [00:00<?, ?it/s]"
      ]
     },
     "metadata": {},
     "output_type": "display_data"
    },
    {
     "data": {
      "application/vnd.jupyter.widget-view+json": {
       "model_id": "0a1bb66bc8e14fda93297d91738cacb6",
       "version_major": 2,
       "version_minor": 0
      },
      "text/plain": [
       "getting output of TICA:   0%|                                               | 0/3 [00:00<?, ?it/s]"
      ]
     },
     "metadata": {},
     "output_type": "display_data"
    }
   ],
   "source": [
    "# Calling tICA. (imput data, lag time, dimensions)\n",
    "\n",
    "tica = cl.tica(data, 5, dim=4)"
   ]
  },
  {
   "cell_type": "code",
   "execution_count": 33,
   "id": "bf3e9fb4",
   "metadata": {
    "scrolled": true
   },
   "outputs": [
    {
     "data": {
      "application/vnd.jupyter.widget-view+json": {
       "model_id": "1a1cb824840f460183eef352b3c0043a",
       "version_major": 2,
       "version_minor": 0
      },
      "text/plain": [
       "initialize kmeans++ centers:   0%|                                         | 0/10 [00:00<?, ?it/s]"
      ]
     },
     "metadata": {},
     "output_type": "display_data"
    },
    {
     "data": {
      "application/vnd.jupyter.widget-view+json": {
       "model_id": "ee593e7c25e2454285201f5936142e97",
       "version_major": 2,
       "version_minor": 0
      },
      "text/plain": [
       "kmeans iterations:   0%|                                                   | 0/10 [00:00<?, ?it/s]"
      ]
     },
     "metadata": {},
     "output_type": "display_data"
    }
   ],
   "source": [
    "# Calling clustering. (tica, number of centers)\n",
    "\n",
    "cluster = cl.cluster(tica, 10)"
   ]
  },
  {
   "cell_type": "code",
   "execution_count": 34,
   "id": "6495ba5f",
   "metadata": {},
   "outputs": [
    {
     "data": {
      "application/vnd.jupyter.widget-view+json": {
       "model_id": "deaf43026aa0443c8be751d00b1edf35",
       "version_major": 2,
       "version_minor": 0
      },
      "text/plain": [
       "getting output of KmeansClustering:   0%|                                   | 0/3 [00:00<?, ?it/s]"
      ]
     },
     "metadata": {},
     "output_type": "display_data"
    }
   ],
   "source": [
    "# Create dtraj for future\n",
    "\n",
    "dtraj_clust = cluster.dtrajs"
   ]
  },
  {
   "cell_type": "code",
   "execution_count": 37,
   "id": "38481cc3",
   "metadata": {},
   "outputs": [
    {
     "name": "stdout",
     "output_type": "stream",
     "text": [
      "417\n"
     ]
    }
   ],
   "source": [
    "# Calling on bin/center that has most data points. This will change depending on the type of adaptive md. This returns 2 \n",
    "# outputs. 1: dict, 2: largest bin\n",
    "\n",
    "bin_count = cl.binning(dtraj_clust)"
   ]
  },
  {
   "cell_type": "code",
   "execution_count": 38,
   "id": "df8c81dd",
   "metadata": {},
   "outputs": [],
   "source": [
    "# Calling on key\n",
    "\n",
    "get_key = cl.get_key(bin_count[0],bin_count[1])"
   ]
  },
  {
   "cell_type": "code",
   "execution_count": 9,
   "id": "90064c71",
   "metadata": {},
   "outputs": [],
   "source": [
    "\n",
    "\n",
    "samples = cluster.sample_indexes_by_cluster([get_key],20)"
   ]
  },
  {
   "cell_type": "code",
   "execution_count": 24,
   "id": "82d1f36d",
   "metadata": {},
   "outputs": [
    {
     "data": {
      "text/plain": [
       "1"
      ]
     },
     "execution_count": 24,
     "metadata": {},
     "output_type": "execute_result"
    }
   ],
   "source": [
    "\n"
   ]
  },
  {
   "cell_type": "code",
   "execution_count": 27,
   "id": "a844d141",
   "metadata": {},
   "outputs": [
    {
     "data": {
      "application/vnd.jupyter.widget-view+json": {
       "model_id": "57ffa283b5904397a543e7036a931a32",
       "version_major": 2,
       "version_minor": 0
      },
      "text/plain": [
       "Obtaining file info:   0%|                                                  | 0/3 [00:00<?, ?it/s]"
      ]
     },
     "metadata": {},
     "output_type": "display_data"
    }
   ],
   "source": [
    "source = pyemma.coordinates.source(tr, top='6.6_2.gro')\n",
    "# pyemma.coordinates.save_trajs(source, samples, outfiles=['./samples.gro'])"
   ]
  },
  {
   "cell_type": "code",
   "execution_count": 29,
   "id": "57cd1235",
   "metadata": {},
   "outputs": [],
   "source": [
    "tr=['whole.1.xtc','whole.2.xtc','whole.3.xtc']"
   ]
  },
  {
   "cell_type": "code",
   "execution_count": 30,
   "id": "d9931ef1",
   "metadata": {},
   "outputs": [],
   "source": [
    "def make_trajs(trajs,top):\n",
    "    source = pyemma.coordinates.source(trajs, top=top)\n",
    "    pyemma.coordinates.save_trajs(source, samples, outfiles=['./samples.gro'])\n",
    "    "
   ]
  },
  {
   "cell_type": "code",
   "execution_count": 31,
   "id": "6c01dca8",
   "metadata": {},
   "outputs": [
    {
     "data": {
      "application/vnd.jupyter.widget-view+json": {
       "model_id": "103ce007c2124c6aa717274858e85ce7",
       "version_major": 2,
       "version_minor": 0
      },
      "text/plain": [
       "Obtaining file info:   0%|                                                  | 0/3 [00:00<?, ?it/s]"
      ]
     },
     "metadata": {},
     "output_type": "display_data"
    }
   ],
   "source": [
    "out = make_trajs(tr,top='6.6_2.gro')"
   ]
  },
  {
   "cell_type": "code",
   "execution_count": null,
   "id": "645cd22a",
   "metadata": {},
   "outputs": [],
   "source": []
  }
 ],
 "metadata": {
  "kernelspec": {
   "display_name": "Python 3 (ipykernel)",
   "language": "python",
   "name": "python3"
  },
  "language_info": {
   "codemirror_mode": {
    "name": "ipython",
    "version": 3
   },
   "file_extension": ".py",
   "mimetype": "text/x-python",
   "name": "python",
   "nbconvert_exporter": "python",
   "pygments_lexer": "ipython3",
   "version": "3.9.7"
  }
 },
 "nbformat": 4,
 "nbformat_minor": 5
}
