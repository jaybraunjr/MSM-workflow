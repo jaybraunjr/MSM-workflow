{
 "cells": [
  {
   "cell_type": "code",
   "execution_count": 1,
   "id": "ff3e0f7c",
   "metadata": {},
   "outputs": [],
   "source": [
    "%matplotlib inline\n",
    "import MDAnalysis as mda\n",
    "import matplotlib.pyplot as plt\n",
    "import matplotlib as mpl\n",
    "import numpy as np\n",
    "import pyemma\n",
    "from pyemma.util.contexts import settings\n",
    "import mdtraj as md\n",
    "import itertools\n",
    "from itertools import combinations\n",
    "import pandas as pd\n",
    "from pyemma.coordinates import source\n"
   ]
  },
  {
   "cell_type": "markdown",
   "id": "f1ec8e47",
   "metadata": {},
   "source": [
    "We are importing our modules and data here"
   ]
  },
  {
   "cell_type": "code",
   "execution_count": 2,
   "id": "15aa1c2b",
   "metadata": {},
   "outputs": [],
   "source": [
    "import featurize.featurize_dists as dists\n",
    "import featurize.caller as caller"
   ]
  },
  {
   "cell_type": "code",
   "execution_count": 3,
   "id": "e4660bfc",
   "metadata": {},
   "outputs": [],
   "source": [
    "traj = md.load('traj_dat/w1.xtc',top='traj_dat/10.gro')\n",
    "tr = 'traj_dat/10.gro'\n",
    "feat = caller.feauture(tr)"
   ]
  },
  {
   "cell_type": "code",
   "execution_count": 6,
   "id": "13e3d161",
   "metadata": {},
   "outputs": [
    {
     "data": {
      "application/vnd.jupyter.widget-view+json": {
       "model_id": "2fcf00ccb17f4b5fbe2a38109abfda80",
       "version_major": 2,
       "version_minor": 0
      },
      "text/plain": [
       "Obtaining file info:   0%|                                                                                    …"
      ]
     },
     "metadata": {},
     "output_type": "display_data"
    }
   ],
   "source": [
    "\n",
    "### this is for mdtraj notation\n",
    "\n",
    "reader = pyemma.coordinates.source(['traj_dat/w1.xtc','traj_dat/w2.xtc','traj_dat/w3.xtc'], features=feat)"
   ]
  },
  {
   "cell_type": "code",
   "execution_count": 8,
   "id": "9a889f7d",
   "metadata": {},
   "outputs": [
    {
     "name": "stdout",
     "output_type": "stream",
     "text": [
      "26-10-22 14:28:29 pyemma.coordinates.data.featurization.featurizer.MDFeaturizer[0] WARNING  tried to re-add the same feature DistanceFeature\n"
     ]
    }
   ],
   "source": [
    "### lets test and add an pyemma featurizer\n",
    "\n",
    "# feat.add_distances_ca()"
   ]
  },
  {
   "cell_type": "code",
   "execution_count": 11,
   "id": "a4286021",
   "metadata": {},
   "outputs": [
    {
     "data": {
      "application/vnd.jupyter.widget-view+json": {
       "model_id": "ba08ac97179c44bca4ad5a49d4e4a7b2",
       "version_major": 2,
       "version_minor": 0
      },
      "text/plain": [
       "getting output of FeatureReader:   0%|                                                                        …"
      ]
     },
     "metadata": {},
     "output_type": "display_data"
    }
   ],
   "source": [
    "# output_2 = reader.get_output()"
   ]
  },
  {
   "cell_type": "code",
   "execution_count": 12,
   "id": "0ae00aaa",
   "metadata": {
    "scrolled": false
   },
   "outputs": [
    {
     "name": "stderr",
     "output_type": "stream",
     "text": [
      "/tmp/ipykernel_4278/3618446771.py:3: VisibleDeprecationWarning: Creating an ndarray from ragged nested sequences (which is a list-or-tuple of lists-or-tuples-or ndarrays with different lengths or shapes) is deprecated. If you meant to do this, you must specify 'dtype=object' when creating the ndarray.\n",
      "  ar_test = np.array(output_2)\n"
     ]
    }
   ],
   "source": [
    "## we then turn the output into an array so we can add our own arrays to it\n",
    "\n",
    "# ar_test = np.array(output_2)"
   ]
  },
  {
   "cell_type": "markdown",
   "id": "b6b1bdbc",
   "metadata": {},
   "source": [
    "Start of the MDAnalysis code imports"
   ]
  },
  {
   "cell_type": "code",
   "execution_count": 4,
   "id": "e32c6dda",
   "metadata": {},
   "outputs": [],
   "source": [
    "## to do: index.py that finds the CA, and other important atom groups "
   ]
  },
  {
   "cell_type": "markdown",
   "id": "11db7661",
   "metadata": {},
   "source": [
    "Below we are naming variables for the distance analysis "
   ]
  },
  {
   "cell_type": "code",
   "execution_count": 5,
   "id": "bcdb9d16",
   "metadata": {},
   "outputs": [],
   "source": [
    "from pyemma.coordinates.data.featurization.misc import GroupCOMFeature\n",
    "c1 = GroupCOMFeature(feat.topology, [list(range(1,367))])\n",
    "c1_ = GroupCOMFeature(feat.topology, [list(range(628,33617))])\n",
    "c2 = GroupCOMFeature(feat.topology, [list(range(1,2))])\n",
    "c3 = GroupCOMFeature(feat.topology, [list(range(626,627))])\n",
    "c4 = GroupCOMFeature(feat.topology, [list(range(128,129))])\n",
    "c5 = GroupCOMFeature(feat.topology, [list(range(228,229))])\n",
    "c6 = GroupCOMFeature(feat.topology, [list(range(328,339))])\n",
    "c7 = GroupCOMFeature(feat.topology, [list(range(428,429))])\n",
    "c8 = GroupCOMFeature(feat.topology, [list(range(528,529))])\n",
    "c9 = GroupCOMFeature(feat.topology, [list(range(600,601))])\n",
    "c10 = GroupCOMFeature(feat.topology, [list(range(28,29))])"
   ]
  },
  {
   "cell_type": "markdown",
   "id": "fef45230",
   "metadata": {},
   "source": [
    "Below is dictionary that we call. This should eventually be made into function to call on"
   ]
  },
  {
   "cell_type": "code",
   "execution_count": 7,
   "id": "cace9e86",
   "metadata": {},
   "outputs": [],
   "source": [
    "my_dict = {}\n",
    "x1 = 'c1'\n",
    "my_dict[x1] = c1\n",
    "x2 = 'c2'\n",
    "my_dict[x2] = c2\n",
    "x3 = 'c3'\n",
    "my_dict[x3] = c3\n",
    "x4 = 'c4'\n",
    "my_dict[x4] = c4\n",
    "x5 = 'c5'\n",
    "my_dict[x5] = c5\n",
    "x6 = 'c6'\n",
    "my_dict[x6] = c6\n",
    "x7 = 'c7'\n",
    "my_dict[x7] = c7\n",
    "x8 = 'c8'\n",
    "my_dict[x8] = c8\n",
    "x9 = 'c9'\n",
    "my_dict[x9] = c9\n",
    "x10 = 'c10'\n",
    "my_dict[x10] = c10\n",
    "\n",
    "# x11 = 'c1_'\n",
    "# my_dict[x11] = c1_"
   ]
  },
  {
   "cell_type": "code",
   "execution_count": 8,
   "id": "7cded800",
   "metadata": {},
   "outputs": [
    {
     "data": {
      "text/plain": [
       "['COM-x of atom group [[1 2 3]..[364 365 366]] ', 'COM-y of atom group [[1 2 3]..[364 365 366]] ', 'COM-z of atom group [[1 2 3]..[364 365 366]] ']"
      ]
     },
     "execution_count": 8,
     "metadata": {},
     "output_type": "execute_result"
    }
   ],
   "source": [
    "## testing\n",
    "\n",
    "c1"
   ]
  },
  {
   "cell_type": "code",
   "execution_count": 9,
   "id": "1d6d5397",
   "metadata": {},
   "outputs": [],
   "source": [
    "# feat_list = ['c1','c2','c1_2','c1_3','c1_4','c1_5','c1_6','c1_7','c1_8','c1_9','c1_10']"
   ]
  },
  {
   "cell_type": "markdown",
   "id": "6600bc81",
   "metadata": {},
   "source": [
    "Create trajectory list. This may get quite long. Need to create class or function for this"
   ]
  },
  {
   "cell_type": "code",
   "execution_count": 10,
   "id": "1da91eef",
   "metadata": {},
   "outputs": [],
   "source": [
    "tlist=['traj_dat/whole.1.xtc','traj_dat/whole.2.xtc','traj_dat/whole.3.xtc']"
   ]
  },
  {
   "cell_type": "code",
   "execution_count": 11,
   "id": "757e73e8",
   "metadata": {},
   "outputs": [],
   "source": [
    "n_list = []\n",
    "for item in tlist:\n",
    "    load = md.load(item,top = 'traj_dat/10.gro')\n",
    "    n_list.append(load)"
   ]
  },
  {
   "cell_type": "markdown",
   "id": "f7c1a4c0",
   "metadata": {},
   "source": [
    "This function loops through trajectories and the differing values of the dictionary to create reader-output"
   ]
  },
  {
   "cell_type": "code",
   "execution_count": 12,
   "id": "4820cd45",
   "metadata": {
    "scrolled": true
   },
   "outputs": [],
   "source": [
    "ls=[]\n",
    "def run_func():\n",
    "    for traj in n_list:\n",
    "        for i in my_dict:\n",
    "            print('working')\n",
    "            ls.append(dists.f1(traj,c1_,my_dict[i]))\n",
    "            \n",
    "    return ls\n",
    "            "
   ]
  },
  {
   "cell_type": "code",
   "execution_count": 13,
   "id": "e1d6cd06",
   "metadata": {},
   "outputs": [
    {
     "name": "stdout",
     "output_type": "stream",
     "text": [
      "working\n",
      "working\n",
      "working\n",
      "working\n",
      "working\n",
      "working\n",
      "working\n",
      "working\n",
      "working\n",
      "working\n",
      "working\n",
      "working\n",
      "working\n",
      "working\n",
      "working\n",
      "working\n",
      "working\n",
      "working\n",
      "working\n",
      "working\n",
      "working\n",
      "working\n",
      "working\n",
      "working\n",
      "working\n",
      "working\n",
      "working\n",
      "working\n",
      "working\n",
      "working\n"
     ]
    }
   ],
   "source": [
    "### Calling the function right here\n",
    "\n",
    "l = run_func()"
   ]
  },
  {
   "cell_type": "code",
   "execution_count": 14,
   "id": "3f3855ea",
   "metadata": {
    "scrolled": true
   },
   "outputs": [
    {
     "name": "stderr",
     "output_type": "stream",
     "text": [
      "/home/jaybraun/miniconda3/lib/python3.9/site-packages/numpy/core/fromnumeric.py:43: VisibleDeprecationWarning: Creating an ndarray from ragged nested sequences (which is a list-or-tuple of lists-or-tuples-or ndarrays with different lengths or shapes) is deprecated. If you meant to do this, you must specify 'dtype=object' when creating the ndarray.\n",
      "  result = getattr(asarray(obj), method)(*args, **kwds)\n"
     ]
    }
   ],
   "source": [
    "### Here I am breakign up the arrays into the chunks for their respective trajectories\n",
    "\n",
    "splits = np.array_split(l, 3)\n",
    "\n",
    "\n",
    "### below is for testing purpouses\n",
    "\n",
    "# splits_ = np.array_split(splits[1],10)\n"
   ]
  },
  {
   "cell_type": "code",
   "execution_count": 15,
   "id": "f4d545f7",
   "metadata": {
    "scrolled": true
   },
   "outputs": [],
   "source": [
    "\n",
    "def fubar(a):\n",
    "    lst=[]\n",
    "    for num in range(len(a)):\n",
    "        b = np.array_split(splits[num],10)\n",
    "        lst.append(b)\n",
    "    return(lst)\n",
    "\n",
    "def iteration(array): \n",
    "    arrr = np.array(array)\n",
    "    unested1 = [list(itertools.chain(*sub)) for sub in arrr]\n",
    "    arr_ = [np.array(unested1)]\n",
    "    \n",
    "    return(arr_)\n",
    "\n",
    "def get_array(array,chunk):\n",
    "    ls=[]\n",
    "    for stuff in array[chunk]:\n",
    "        ls.append(iteration(stuff))\n",
    "    return ls"
   ]
  },
  {
   "cell_type": "code",
   "execution_count": 16,
   "id": "7d152e66",
   "metadata": {
    "scrolled": true
   },
   "outputs": [],
   "source": [
    "### think I was testing, will keep for now\n",
    "\n",
    "# fubar_list = []\n",
    "# for num in range(len(splits)):\n",
    "#     s = fubar(splits)\n",
    "#     fubar_list.append(s)\n",
    "#     print('done')"
   ]
  },
  {
   "cell_type": "code",
   "execution_count": 17,
   "id": "5c54c670",
   "metadata": {},
   "outputs": [],
   "source": [
    "m = fubar(splits)"
   ]
  },
  {
   "cell_type": "code",
   "execution_count": 18,
   "id": "179418a7",
   "metadata": {},
   "outputs": [],
   "source": [
    "def return_inputs(array,chunk,feat_len):\n",
    "    r1 = get_array(array,chunk)\n",
    "    shape = np.shape(r1)\n",
    "    arr = np.array(r1)\n",
    "    reshape = arr.reshape(feat_len,shape[3])\n",
    "    stuff2 = [np.transpose(reshape)]\n",
    "    return(stuff2)"
   ]
  },
  {
   "cell_type": "code",
   "execution_count": 19,
   "id": "7e982859",
   "metadata": {},
   "outputs": [],
   "source": [
    "in1 = return_inputs(m,0,10)\n",
    "in2 = return_inputs(m,1,10)\n",
    "in3 = return_inputs(m,2,10)"
   ]
  },
  {
   "cell_type": "code",
   "execution_count": 20,
   "id": "82ed503f",
   "metadata": {},
   "outputs": [],
   "source": [
    "conts=in1+in2+in3"
   ]
  },
  {
   "cell_type": "code",
   "execution_count": 24,
   "id": "64be4515",
   "metadata": {},
   "outputs": [
    {
     "data": {
      "text/plain": [
       "(500, 10)"
      ]
     },
     "execution_count": 24,
     "metadata": {},
     "output_type": "execute_result"
    }
   ],
   "source": [
    "np.shape(conts[1])"
   ]
  },
  {
   "cell_type": "code",
   "execution_count": 52,
   "id": "4b8214f7",
   "metadata": {},
   "outputs": [],
   "source": [
    "traj1 = md.load('traj_dat/w1.xtc',top='traj_dat/10.gro')\n",
    "traj2 = md.load('traj_dat/w2.xtc',top='traj_dat/10.gro')\n",
    "traj3 = md.load('traj_dat/w3.xtc',top='traj_dat/10.gro')"
   ]
  },
  {
   "cell_type": "code",
   "execution_count": null,
   "id": "f8f0a4a6",
   "metadata": {},
   "outputs": [],
   "source": [
    "\n",
    "    "
   ]
  },
  {
   "cell_type": "code",
   "execution_count": 53,
   "id": "c7ef2d3a",
   "metadata": {},
   "outputs": [],
   "source": [
    "a_ = dists.f1(traj1,c1,c1_)\n",
    "b_ = dists.f1(traj1,c2,c1_)\n",
    "c_ = dists.f1(traj1,c3,c1_)\n",
    "d_ = dists.f1(traj1,c4,c1_)\n",
    "e_ = dists.f1(traj1,c5,c1_)\n",
    "f_ = dists.f1(traj1,c6,c1_)\n",
    "g_ = dists.f1(traj1,c7,c1_)\n",
    "h_ = dists.f1(traj1,c8,c1_)\n",
    "i_ = dists.f1(traj1,c9,c1_)\n",
    "j_ = dists.f1(traj1,c10,c1_)\n",
    "\n",
    "a_2 = dists.f1(traj2,c1,c1_)\n",
    "b_2 = dists.f1(traj2,c2,c1_)\n",
    "c_2 = dists.f1(traj2,c3,c1_)\n",
    "d_2 = dists.f1(traj2,c4,c1_)\n",
    "e_2 = dists.f1(traj2,c5,c1_)\n",
    "f_2 = dists.f1(traj2,c6,c1_)\n",
    "g_2 = dists.f1(traj2,c7,c1_)\n",
    "h_2 = dists.f1(traj2,c8,c1_)\n",
    "i_2 = dists.f1(traj2,c9,c1_)\n",
    "j_2 = dists.f1(traj2,c10,c1_)\n",
    "\n",
    "a_3 = dists.f1(traj3,c1,c1_)\n",
    "b_3 = dists.f1(traj3,c2,c1_)\n",
    "c_3 = dists.f1(traj3,c3,c1_)\n",
    "d_3 = dists.f1(traj3,c4,c1_)\n",
    "e_3 = dists.f1(traj3,c5,c1_)\n",
    "f_3 = dists.f1(traj3,c6,c1_)\n",
    "g_3 = dists.f1(traj3,c7,c1_)\n",
    "h_3 = dists.f1(traj3,c8,c1_)\n",
    "i_3 = dists.f1(traj3,c9,c1_)\n",
    "j_3 = dists.f1(traj3,c10,c1_)\n"
   ]
  },
  {
   "cell_type": "code",
   "execution_count": 54,
   "id": "1e2c1341",
   "metadata": {},
   "outputs": [],
   "source": [
    "j1 = caller.concat(a_,b_,c_,d_,e_,f_,g_,h_,i_,j_)\n",
    "j2 = caller.concat(a_2,b_2,c_2,d_2,e_2,f_2,g_2,h_2,i_2,j_2)\n",
    "j3 = caller.concat(a_3,b_3,c_3,d_3,e_3,f_3,g_3,h_3,i_3,j_3)\n"
   ]
  },
  {
   "cell_type": "code",
   "execution_count": 55,
   "id": "1988c88d",
   "metadata": {
    "scrolled": false
   },
   "outputs": [
    {
     "data": {
      "text/plain": [
       "[array([[0.1479072 , 0.15952647, 0.14739364, 0.14957628, 0.13534449,\n",
       "         0.16179927, 0.1604479 , 0.14327566, 0.14331675, 0.15161733],\n",
       "        [0.08834314, 0.09982353, 0.09632353, 0.08881249, 0.08109854,\n",
       "         0.0903639 , 0.08971283, 0.09350445, 0.09209225, 0.09840895],\n",
       "        [0.08199551, 0.08810836, 0.0852685 , 0.0822865 , 0.07700209,\n",
       "         0.08721906, 0.08243574, 0.08586152, 0.08034283, 0.08815496],\n",
       "        [0.09918294, 0.10522778, 0.0969068 , 0.09951047, 0.09197775,\n",
       "         0.10667714, 0.10633554, 0.10095713, 0.10342123, 0.10623387],\n",
       "        [0.14785758, 0.16289628, 0.14421949, 0.14729978, 0.1328043 ,\n",
       "         0.17436789, 0.16010565, 0.16385718, 0.16477516, 0.15516204],\n",
       "        [0.15580189, 0.17925073, 0.17597029, 0.15230489, 0.13964964,\n",
       "         0.17337461, 0.17295718, 0.19172597, 0.20150006, 0.16946918],\n",
       "        [0.16272955, 0.19672203, 0.17231531, 0.16462763, 0.14117683,\n",
       "         0.17531765, 0.16791724, 0.19488183, 0.19200069, 0.19021118],\n",
       "        [0.16284694, 0.17063993, 0.14240363, 0.16398032, 0.14606445,\n",
       "         0.1936522 , 0.17069818, 0.17339157, 0.16406102, 0.17128293],\n",
       "        [0.15680021, 0.18577579, 0.16385832, 0.15542835, 0.13670853,\n",
       "         0.17735097, 0.17569032, 0.18525954, 0.18532822, 0.17464708],\n",
       "        [0.152696  , 0.17085275, 0.15405962, 0.15153827, 0.1335828 ,\n",
       "         0.17687401, 0.15703534, 0.17898715, 0.17247346, 0.16647263],\n",
       "        [0.15644221, 0.17873609, 0.16380444, 0.15392096, 0.13879557,\n",
       "         0.17954163, 0.16445093, 0.1820883 , 0.17559753, 0.17114961]],\n",
       "       dtype=float32)]"
      ]
     },
     "execution_count": 55,
     "metadata": {},
     "output_type": "execute_result"
    }
   ],
   "source": [
    "j3"
   ]
  },
  {
   "cell_type": "code",
   "execution_count": 57,
   "id": "57d813f5",
   "metadata": {},
   "outputs": [
    {
     "data": {
      "text/plain": [
       "(1, 5, 10)"
      ]
     },
     "execution_count": 57,
     "metadata": {},
     "output_type": "execute_result"
    }
   ],
   "source": [
    "np.shape(j2)"
   ]
  },
  {
   "cell_type": "code",
   "execution_count": 61,
   "id": "6759e2ee",
   "metadata": {},
   "outputs": [
    {
     "data": {
      "text/plain": [
       "(1, 5, 10)"
      ]
     },
     "execution_count": 61,
     "metadata": {},
     "output_type": "execute_result"
    }
   ],
   "source": [
    "np.shape(j2)"
   ]
  },
  {
   "cell_type": "code",
   "execution_count": 284,
   "id": "5c5be5fd",
   "metadata": {},
   "outputs": [],
   "source": [
    "conts=j1+j2+j3"
   ]
  },
  {
   "cell_type": "code",
   "execution_count": 285,
   "id": "55dcf825",
   "metadata": {
    "scrolled": true
   },
   "outputs": [
    {
     "data": {
      "text/plain": [
       "[array([[0.14719187, 0.16049285, 0.14558569, 0.1496825 , 0.13328344,\n",
       "         0.16076352, 0.15808257, 0.13984436, 0.13939598, 0.1503803 ],\n",
       "        [0.1432795 , 0.16512863, 0.16318843, 0.1417056 , 0.12693761,\n",
       "         0.1605821 , 0.156375  , 0.16158001, 0.15040115, 0.15354182],\n",
       "        [0.14262521, 0.16133863, 0.15498725, 0.14204256, 0.12948096,\n",
       "         0.16760606, 0.15064456, 0.15827435, 0.13548037, 0.14673208],\n",
       "        [0.14506885, 0.15446231, 0.1710843 , 0.1454742 , 0.12934817,\n",
       "         0.16909498, 0.16010065, 0.16307706, 0.14783998, 0.1521359 ],\n",
       "        [0.15303203, 0.15760697, 0.1579555 , 0.15177049, 0.13670734,\n",
       "         0.18620157, 0.16812669, 0.16747904, 0.14423986, 0.15728475],\n",
       "        [0.15349634, 0.17137544, 0.16455103, 0.15422241, 0.13720916,\n",
       "         0.18096256, 0.1645781 , 0.17294629, 0.14900592, 0.1637159 ],\n",
       "        [0.16187276, 0.16409008, 0.16702262, 0.16605191, 0.14509127,\n",
       "         0.18639207, 0.16544747, 0.17116797, 0.15996896, 0.17143208],\n",
       "        [0.17277014, 0.18089063, 0.17491075, 0.1743922 , 0.15700555,\n",
       "         0.2012058 , 0.1673584 , 0.19025148, 0.15505795, 0.1795267 ],\n",
       "        [0.15074737, 0.15477055, 0.1505077 , 0.15055305, 0.13502243,\n",
       "         0.17964284, 0.16433373, 0.16649525, 0.13802284, 0.15422155],\n",
       "        [0.15883645, 0.16116674, 0.1539704 , 0.15898871, 0.14409731,\n",
       "         0.19183339, 0.1659543 , 0.17156324, 0.16466993, 0.16103695],\n",
       "        [0.15342948, 0.1671324 , 0.15900071, 0.15185384, 0.13564324,\n",
       "         0.17847812, 0.1704658 , 0.18253908, 0.18304023, 0.16635393]],\n",
       "       dtype=float32),\n",
       " array([[0.14755869, 0.16539541, 0.14589773, 0.14818949, 0.13267674,\n",
       "         0.16154696, 0.15910606, 0.14382039, 0.14236666, 0.15443738],\n",
       "        [0.11456558, 0.11322872, 0.09312131, 0.11624283, 0.11302398,\n",
       "         0.11857847, 0.11061114, 0.10263063, 0.10019356, 0.11868477],\n",
       "        [0.11933344, 0.1116866 , 0.09724197, 0.11963689, 0.13334   ,\n",
       "         0.11694055, 0.10323513, 0.10491388, 0.09577969, 0.11273162],\n",
       "        [0.08619592, 0.0904365 , 0.09784275, 0.08541546, 0.08495829,\n",
       "         0.08257832, 0.09000509, 0.09417542, 0.10461912, 0.08620331],\n",
       "        [0.12836693, 0.1380195 , 0.1293602 , 0.12808438, 0.11929825,\n",
       "         0.13933353, 0.13377295, 0.12529205, 0.11987026, 0.14097705]],\n",
       "       dtype=float32),\n",
       " array([[0.1479072 , 0.15952647, 0.14739364, 0.14957628, 0.13534449,\n",
       "         0.16179927, 0.1604479 , 0.14327566, 0.14331675, 0.15161733],\n",
       "        [0.08834314, 0.09982353, 0.09632353, 0.08881249, 0.08109854,\n",
       "         0.0903639 , 0.08971283, 0.09350445, 0.09209225, 0.09840895],\n",
       "        [0.08199551, 0.08810836, 0.0852685 , 0.0822865 , 0.07700209,\n",
       "         0.08721906, 0.08243574, 0.08586152, 0.08034283, 0.08815496],\n",
       "        [0.09918294, 0.10522778, 0.0969068 , 0.09951047, 0.09197775,\n",
       "         0.10667714, 0.10633554, 0.10095713, 0.10342123, 0.10623387],\n",
       "        [0.14785758, 0.16289628, 0.14421949, 0.14729978, 0.1328043 ,\n",
       "         0.17436789, 0.16010565, 0.16385718, 0.16477516, 0.15516204],\n",
       "        [0.15580189, 0.17925073, 0.17597029, 0.15230489, 0.13964964,\n",
       "         0.17337461, 0.17295718, 0.19172597, 0.20150006, 0.16946918],\n",
       "        [0.16272955, 0.19672203, 0.17231531, 0.16462763, 0.14117683,\n",
       "         0.17531765, 0.16791724, 0.19488183, 0.19200069, 0.19021118],\n",
       "        [0.16284694, 0.17063993, 0.14240363, 0.16398032, 0.14606445,\n",
       "         0.1936522 , 0.17069818, 0.17339157, 0.16406102, 0.17128293],\n",
       "        [0.15680021, 0.18577579, 0.16385832, 0.15542835, 0.13670853,\n",
       "         0.17735097, 0.17569032, 0.18525954, 0.18532822, 0.17464708],\n",
       "        [0.152696  , 0.17085275, 0.15405962, 0.15153827, 0.1335828 ,\n",
       "         0.17687401, 0.15703534, 0.17898715, 0.17247346, 0.16647263],\n",
       "        [0.15644221, 0.17873609, 0.16380444, 0.15392096, 0.13879557,\n",
       "         0.17954163, 0.16445093, 0.1820883 , 0.17559753, 0.17114961]],\n",
       "       dtype=float32)]"
      ]
     },
     "execution_count": 285,
     "metadata": {},
     "output_type": "execute_result"
    }
   ],
   "source": [
    "conts"
   ]
  },
  {
   "cell_type": "code",
   "execution_count": 70,
   "id": "69179f76",
   "metadata": {},
   "outputs": [
    {
     "data": {
      "text/plain": [
       "(5, 595)"
      ]
     },
     "execution_count": 70,
     "metadata": {},
     "output_type": "execute_result"
    }
   ],
   "source": [
    "np.shape(output_2[1])"
   ]
  },
  {
   "cell_type": "code",
   "execution_count": 286,
   "id": "e72a7e96",
   "metadata": {},
   "outputs": [
    {
     "name": "stderr",
     "output_type": "stream",
     "text": [
      "/home/jaybraun/miniconda3/lib/python3.9/site-packages/numpy/core/fromnumeric.py:2007: VisibleDeprecationWarning: Creating an ndarray from ragged nested sequences (which is a list-or-tuple of lists-or-tuples-or ndarrays with different lengths or shapes) is deprecated. If you meant to do this, you must specify 'dtype=object' when creating the ndarray.\n",
      "  result = asarray(a).shape\n"
     ]
    },
    {
     "data": {
      "text/plain": [
       "(3,)"
      ]
     },
     "execution_count": 286,
     "metadata": {},
     "output_type": "execute_result"
    }
   ],
   "source": [
    "np.shape(conts)"
   ]
  },
  {
   "cell_type": "code",
   "execution_count": 73,
   "id": "4147e480",
   "metadata": {},
   "outputs": [],
   "source": [
    "j1 = np.array(in1)\n",
    "j2 = np.array(in2)\n",
    "j3 = np.array(in3)"
   ]
  },
  {
   "cell_type": "code",
   "execution_count": 74,
   "id": "fde43a02",
   "metadata": {},
   "outputs": [
    {
     "data": {
      "text/plain": [
       "array([[0.57134974, 0.903224  , 1.0449815 , ..., 0.4921838 , 0.6303447 ,\n",
       "        0.79903984],\n",
       "       [0.53450084, 0.59708065, 0.85895807, ..., 0.5537851 , 0.6137651 ,\n",
       "        0.51207995],\n",
       "       [0.5567982 , 0.63599145, 0.86135507, ..., 0.50263447, 0.62543905,\n",
       "        0.49659216],\n",
       "       [0.5173954 , 0.5897235 , 0.84801   , ..., 0.5327727 , 0.5884815 ,\n",
       "        0.771125  ],\n",
       "       [0.50040996, 0.78849816, 0.9822285 , ..., 0.48808822, 0.56042576,\n",
       "        0.7656751 ]], dtype=float32)"
      ]
     },
     "execution_count": 74,
     "metadata": {},
     "output_type": "execute_result"
    }
   ],
   "source": [
    "output_2[1]"
   ]
  },
  {
   "cell_type": "code",
   "execution_count": 75,
   "id": "43e131f1",
   "metadata": {},
   "outputs": [
    {
     "data": {
      "text/plain": [
       "(1, 11, 10)"
      ]
     },
     "execution_count": 75,
     "metadata": {},
     "output_type": "execute_result"
    }
   ],
   "source": [
    "np.shape(j1)"
   ]
  },
  {
   "cell_type": "code",
   "execution_count": 76,
   "id": "9cd0f4f5",
   "metadata": {},
   "outputs": [],
   "source": [
    "resh1 = j1.reshape(1001,10)\n",
    "resh2 = j2.reshape(500,10)\n",
    "resh3 = j3.reshape(1001,10)"
   ]
  },
  {
   "cell_type": "code",
   "execution_count": 77,
   "id": "03fba01e",
   "metadata": {
    "scrolled": false
   },
   "outputs": [],
   "source": [
    "all1 = np.concatenate((output_2[0],resh1),axis = 1)\n",
    "all2 = np.concatenate((output_2[1],resh2),axis = 1)\n",
    "all3 = np.concatenate((output_2[2],resh3),axis = 1)"
   ]
  },
  {
   "cell_type": "code",
   "execution_count": 78,
   "id": "9ddcd437",
   "metadata": {},
   "outputs": [],
   "source": [
    "arr_list = [all1,all2,all3]"
   ]
  },
  {
   "cell_type": "code",
   "execution_count": 79,
   "id": "2c19c064",
   "metadata": {},
   "outputs": [],
   "source": [
    "saving = caller.save_reader(arr_list)"
   ]
  },
  {
   "cell_type": "code",
   "execution_count": 25,
   "id": "18f44b54",
   "metadata": {
    "scrolled": true
   },
   "outputs": [
    {
     "data": {
      "application/vnd.jupyter.widget-view+json": {
       "model_id": "18ae9751fa174d36af3ff694d27a3c10",
       "version_major": 2,
       "version_minor": 0
      },
      "text/plain": [
       "calculate covariances:   0%|                                                                                  …"
      ]
     },
     "metadata": {},
     "output_type": "display_data"
    },
    {
     "data": {
      "application/vnd.jupyter.widget-view+json": {
       "model_id": "590c8c6bce4f4fefb2b285141d325210",
       "version_major": 2,
       "version_minor": 0
      },
      "text/plain": [
       "getting output of TICA:   0%|                                                                                 …"
      ]
     },
     "metadata": {},
     "output_type": "display_data"
    }
   ],
   "source": [
    "tica_dev = pyemma.coordinates.tica(conts,lag=3,dim=4)\n",
    "tica_out = tica_dev.get_output()\n",
    "tica_concatenated = np.concatenate(tica_out)"
   ]
  },
  {
   "cell_type": "code",
   "execution_count": 26,
   "id": "adc60d86",
   "metadata": {
    "scrolled": true
   },
   "outputs": [
    {
     "data": {
      "text/plain": [
       "[array([[-0.19569111, -0.74689776,  1.1474828 ,  0.38466725],\n",
       "        [-0.51677036,  0.00797374,  0.92849123,  0.6556226 ],\n",
       "        [-0.49660608,  0.0162141 ,  0.92393816,  0.45704523],\n",
       "        ...,\n",
       "        [ 0.8686167 ,  1.0788611 , -0.6934544 , -0.53292304],\n",
       "        [ 1.0476438 ,  1.3822184 , -0.3429093 ,  0.20497127],\n",
       "        [ 0.7630789 ,  1.4664423 , -0.31563562, -0.27921352]],\n",
       "       dtype=float32),\n",
       " array([[-0.14766921, -0.5004726 ,  1.1464003 ,  0.52658457],\n",
       "        [-0.72094727, -0.40427426,  0.46179843,  0.07653926],\n",
       "        [-0.69326097, -0.40721622,  0.19170824, -0.8646156 ],\n",
       "        ...,\n",
       "        [-1.4283684 ,  0.11899818, -0.40154278,  0.6617805 ],\n",
       "        [-1.5621264 ,  0.04500099, -0.32593653,  0.12540784],\n",
       "        [-1.6752802 ,  0.21340635, -0.3969377 ,  0.33067298]],\n",
       "       dtype=float32),\n",
       " array([[-0.16616164, -0.5162168 ,  1.1896206 ,  0.21658589],\n",
       "        [-0.49354967, -0.37129334,  0.65191644, -0.46093816],\n",
       "        [-0.43125203, -0.44982317,  0.82312554, -1.2063938 ],\n",
       "        ...,\n",
       "        [ 0.98742753,  0.543647  , -0.39841345, -0.4495109 ],\n",
       "        [ 0.8741404 ,  1.013113  , -0.16226625,  0.1225298 ],\n",
       "        [ 0.7352146 ,  0.71432847,  0.05563388,  0.19991568]],\n",
       "       dtype=float32)]"
      ]
     },
     "execution_count": 26,
     "metadata": {},
     "output_type": "execute_result"
    }
   ],
   "source": [
    "tica_out"
   ]
  },
  {
   "cell_type": "code",
   "execution_count": 27,
   "id": "307749af",
   "metadata": {},
   "outputs": [],
   "source": [
    "ls = caller.make_arr(tica_concatenated)"
   ]
  },
  {
   "cell_type": "code",
   "execution_count": 28,
   "id": "4fbbb33b",
   "metadata": {
    "scrolled": true
   },
   "outputs": [
    {
     "data": {
      "image/png": "[encoded data removed]",
      "text/plain": [
       "<Figure size 720x288 with 3 Axes>"
      ]
     },
     "metadata": {
      "needs_background": "light"
     },
     "output_type": "display_data"
    }
   ],
   "source": [
    "fig, axes = plt.subplots(1, 2, figsize=(10, 4))\n",
    "pyemma.plots.plot_feature_histograms(\n",
    "    ls,\n",
    "    ax=axes[0],\n",
    "#     feature_labels=['IC1', 'IC2', 'IC3'],\n",
    "    ylog=True, ignore_dim_warning=True)\n",
    "pyemma.plots.plot_density(*ls[:, :2].T, ax=axes[1], logscale=True)\n",
    "axes[1].set_xlabel('IC 1')\n",
    "axes[1].set_ylabel('IC 2')\n",
    "fig.tight_layout()\n",
    "plt.savefig('tica.png')"
   ]
  },
  {
   "cell_type": "code",
   "execution_count": 17,
   "id": "145a60cd",
   "metadata": {},
   "outputs": [
    {
     "ename": "NameError",
     "evalue": "name 'coor' is not defined",
     "output_type": "error",
     "traceback": [
      "\u001b[0;31m---------------------------------------------------------------------------\u001b[0m",
      "\u001b[0;31mNameError\u001b[0m                                 Traceback (most recent call last)",
      "Input \u001b[0;32mIn [17]\u001b[0m, in \u001b[0;36m<cell line: 1>\u001b[0;34m()\u001b[0m\n\u001b[0;32m----> 1\u001b[0m data \u001b[38;5;241m=\u001b[39m [coor\u001b[38;5;241m.\u001b[39mload(\u001b[38;5;124mf\u001b[39m\u001b[38;5;124m'\u001b[39m\u001b[38;5;124moutput_\u001b[39m\u001b[38;5;132;01m{\u001b[39;00mi\u001b[38;5;132;01m:\u001b[39;00m\u001b[38;5;124m03d\u001b[39m\u001b[38;5;132;01m}\u001b[39;00m\u001b[38;5;124m.npy\u001b[39m\u001b[38;5;124m'\u001b[39m) \u001b[38;5;28;01mfor\u001b[39;00m i \u001b[38;5;129;01min\u001b[39;00m \u001b[38;5;28mrange\u001b[39m(\u001b[38;5;241m120\u001b[39m)]\n",
      "Input \u001b[0;32mIn [17]\u001b[0m, in \u001b[0;36m<listcomp>\u001b[0;34m(.0)\u001b[0m\n\u001b[0;32m----> 1\u001b[0m data \u001b[38;5;241m=\u001b[39m [\u001b[43mcoor\u001b[49m\u001b[38;5;241m.\u001b[39mload(\u001b[38;5;124mf\u001b[39m\u001b[38;5;124m'\u001b[39m\u001b[38;5;124moutput_\u001b[39m\u001b[38;5;132;01m{\u001b[39;00mi\u001b[38;5;132;01m:\u001b[39;00m\u001b[38;5;124m03d\u001b[39m\u001b[38;5;132;01m}\u001b[39;00m\u001b[38;5;124m.npy\u001b[39m\u001b[38;5;124m'\u001b[39m) \u001b[38;5;28;01mfor\u001b[39;00m i \u001b[38;5;129;01min\u001b[39;00m \u001b[38;5;28mrange\u001b[39m(\u001b[38;5;241m120\u001b[39m)]\n",
      "\u001b[0;31mNameError\u001b[0m: name 'coor' is not defined"
     ]
    }
   ],
   "source": [
    "data = [coor.load(f'output_{i:03d}.npy') for i in range(120)]"
   ]
  },
  {
   "cell_type": "code",
   "execution_count": 19,
   "id": "193e6942",
   "metadata": {
    "scrolled": true
   },
   "outputs": [
    {
     "data": {
      "image/png": "[encoded data removed]",
      "text/plain": [
       "<Figure size 864x360 with 6 Axes>"
      ]
     },
     "metadata": {
      "needs_background": "light"
     },
     "output_type": "display_data"
    }
   ],
   "source": [
    "fig, axes = plt.subplots(6, 1, figsize=(12, 5), sharex=True)\n",
    "x = 0.1 * np.arange(tica_out[0].shape[0])\n",
    "for i, (ax, tic) in enumerate(zip(axes.flat, tica_out[0].T)):\n",
    "    ax.plot(x, tic)\n",
    "    ax.set_ylabel('IC {}'.format(i + 1))\n",
    "axes[-1].set_xlabel('time / ns')\n",
    "fig.tight_layout()\n",
    "plt.savefig('ics.png')"
   ]
  },
  {
   "cell_type": "code",
   "execution_count": 21,
   "id": "35f78793",
   "metadata": {},
   "outputs": [
    {
     "data": {
      "application/vnd.jupyter.widget-view+json": {
       "model_id": "9fdccf32cff74bd5a02a6ea61384f3ec",
       "version_major": 2,
       "version_minor": 0
      },
      "text/plain": [
       "initialize kmeans++ centers:   0%|                                                                            …"
      ]
     },
     "metadata": {},
     "output_type": "display_data"
    },
    {
     "data": {
      "application/vnd.jupyter.widget-view+json": {
       "model_id": "bb66a8c1b3b947b0879296d7b371b47a",
       "version_major": 2,
       "version_minor": 0
      },
      "text/plain": [
       "kmeans iterations:   0%|                                                                                      …"
      ]
     },
     "metadata": {},
     "output_type": "display_data"
    },
    {
     "data": {
      "application/vnd.jupyter.widget-view+json": {
       "model_id": "1ed35a55db684880abb46ea5cff98811",
       "version_major": 2,
       "version_minor": 0
      },
      "text/plain": [
       "getting output of KmeansClustering:   0%|                                                                     …"
      ]
     },
     "metadata": {},
     "output_type": "display_data"
    }
   ],
   "source": [
    "cluster = pyemma.coordinates.cluster_kmeans(\n",
    "    tica_out, k=15, max_iter=100, stride=1, fixed_seed=1)\n",
    "dtrajs_concatenated = np.concatenate(cluster.dtrajs)\n"
   ]
  },
  {
   "cell_type": "code",
   "execution_count": 22,
   "id": "0b86a4ba",
   "metadata": {},
   "outputs": [
    {
     "data": {
      "image/png": "[encoded data removed]",
      "text/plain": [
       "<Figure size 288x288 with 1 Axes>"
      ]
     },
     "metadata": {
      "needs_background": "light"
     },
     "output_type": "display_data"
    }
   ],
   "source": [
    "fig, ax = plt.subplots(figsize=(4, 4))\n",
    "pyemma.plots.plot_density(\n",
    "    *tica_concatenated[:, :2].T, ax=ax, cbar=False, alpha=0.3)\n",
    "ax.scatter(*cluster.clustercenters[:, :2].T, s=5, c='C1')\n",
    "ax.set_xlabel('IC 1')\n",
    "ax.set_ylabel('IC 2')\n",
    "fig.tight_layout()"
   ]
  },
  {
   "cell_type": "code",
   "execution_count": 23,
   "id": "8ce245a8",
   "metadata": {},
   "outputs": [
    {
     "data": {
      "application/vnd.jupyter.widget-view+json": {
       "model_id": "5fc352275fa34e6c9cd51e4d7c83255c",
       "version_major": 2,
       "version_minor": 0
      },
      "text/plain": [
       "estimating BayesianMSM:   0%|                                                                                 …"
      ]
     },
     "metadata": {},
     "output_type": "display_data"
    },
    {
     "name": "stdout",
     "output_type": "stream",
     "text": [
      "21-10-22 08:16:12 pyemma.msm.estimators.implied_timescales.ImpliedTimescales[8] WARNING  Changed user setting nits to the number of available timescales nits=4\n"
     ]
    },
    {
     "data": {
      "image/png": "[encoded data removed]",
      "text/plain": [
       "<Figure size 432x288 with 1 Axes>"
      ]
     },
     "metadata": {
      "needs_background": "light"
     },
     "output_type": "display_data"
    }
   ],
   "source": [
    "its = pyemma.msm.its(cluster.dtrajs, lags=40, nits=10, errors='bayes')\n",
    "pyemma.plots.plot_implied_timescales(its, units='ns', dt=0.1);"
   ]
  },
  {
   "cell_type": "code",
   "execution_count": 24,
   "id": "17efec9b",
   "metadata": {},
   "outputs": [
    {
     "data": {
      "application/vnd.jupyter.widget-view+json": {
       "model_id": "910a203481924fd0be04bfd4fd0b9d5a",
       "version_major": 2,
       "version_minor": 0
      },
      "text/plain": [
       "pyemma.msm.estimators.bayesian_msm.BayesianMSM[10]: compute stat. inefficiencies:   0%|                       …"
      ]
     },
     "metadata": {},
     "output_type": "display_data"
    },
    {
     "data": {
      "application/vnd.jupyter.widget-view+json": {
       "model_id": "c6e25c5147a14ba1aab33d08db9bd624",
       "version_major": 2,
       "version_minor": 0
      },
      "text/plain": [
       "pyemma.msm.estimators.bayesian_msm.BayesianMSM[10]: Sampling MSMs:   0%|                                      …"
      ]
     },
     "metadata": {},
     "output_type": "display_data"
    },
    {
     "name": "stdout",
     "output_type": "stream",
     "text": [
      "fraction of states used = 0.33\n",
      "fraction of counts used = 0.27\n"
     ]
    }
   ],
   "source": [
    "msm = pyemma.msm.bayesian_markov_model(cluster.dtrajs, lag=15, dt_traj='0.2 ns')\n",
    "print('fraction of states used = {:.2f}'.format(msm.active_state_fraction))\n",
    "print('fraction of counts used = {:.2f}'.format(msm.active_count_fraction))"
   ]
  },
  {
   "cell_type": "code",
   "execution_count": 24,
   "id": "5be454d8",
   "metadata": {},
   "outputs": [
    {
     "data": {
      "image/png": "[encoded data removed]",
      "text/plain": [
       "<Figure size 720x288 with 2 Axes>"
      ]
     },
     "metadata": {
      "needs_background": "light"
     },
     "output_type": "display_data"
    }
   ],
   "source": [
    "def its_separation_err(ts, ts_err):\n",
    "    \"\"\"\n",
    "    Error propagation from ITS standard deviation to timescale separation.\n",
    "    \"\"\"\n",
    "    return ts[:-1] / ts[1:] * np.sqrt(\n",
    "        (ts_err[:-1] / ts[:-1])**2 + (ts_err[1:] / ts[1:])**2)\n",
    "\n",
    "\n",
    "nits = 10\n",
    "\n",
    "timescales_mean = msm.sample_mean('timescales', k=nits)\n",
    "timescales_std = msm.sample_std('timescales', k=nits)\n",
    "\n",
    "fig, axes = plt.subplots(1, 2, figsize=(10, 4))\n",
    "\n",
    "axes[0].errorbar(\n",
    "    range(1, nits + 1),\n",
    "    timescales_mean,\n",
    "    yerr=timescales_std,\n",
    "    fmt='.', markersize=10)\n",
    "axes[1].errorbar(\n",
    "    range(1, nits),\n",
    "    timescales_mean[:-1] / timescales_mean[1:],\n",
    "    yerr=its_separation_err(\n",
    "        timescales_mean,\n",
    "        timescales_std),\n",
    "    fmt='.',\n",
    "    markersize=10,\n",
    "    color='C0')\n",
    "\n",
    "for i, ax in enumerate(axes):\n",
    "    ax.set_xticks(range(1, nits + 1))\n",
    "    ax.grid(True, axis='x', linestyle=':')\n",
    "\n",
    "axes[0].axhline(msm.lag * 0.1, lw=1.5, color='k')\n",
    "axes[0].axhspan(0, msm.lag * 0.1, alpha=0.3, color='k')\n",
    "axes[0].set_xlabel('implied timescale index')\n",
    "axes[0].set_ylabel('implied timescales / ns')\n",
    "axes[1].set_xticks(range(1, nits))\n",
    "# axes[1].set_xticklabels(\n",
    "#     [\"{:d}/{:d}\".format(k, k + 1) for k in range(1, nits + 2)],\n",
    "#     rotation=45)\n",
    "axes[1].set_xlabel('implied timescale indices')\n",
    "axes[1].set_ylabel('timescale separation')\n",
    "fig.tight_layout()\n",
    "plt.savefig('spectral.png')"
   ]
  },
  {
   "cell_type": "code",
   "execution_count": 25,
   "id": "ee7ce98a",
   "metadata": {
    "scrolled": true
   },
   "outputs": [
    {
     "data": {
      "application/vnd.jupyter.widget-view+json": {
       "model_id": "8a5fd5595a834c7c8988536c25c3af7f",
       "version_major": 2,
       "version_minor": 0
      },
      "text/plain": [
       "estimating BayesianMSM:   0%|                                                                                 …"
      ]
     },
     "metadata": {},
     "output_type": "display_data"
    },
    {
     "data": {
      "image/png": "[encoded data removed]",
      "text/plain": [
       "<Figure size 648x648 with 9 Axes>"
      ]
     },
     "metadata": {
      "needs_background": "light"
     },
     "output_type": "display_data"
    }
   ],
   "source": [
    "nstates = 3\n",
    "cktest = msm.cktest(nstates, mlags=6)\n",
    "pyemma.plots.plot_cktest(cktest, dt=0.1, units='ns');\n"
   ]
  },
  {
   "cell_type": "code",
   "execution_count": 28,
   "id": "76b36a5b",
   "metadata": {},
   "outputs": [
    {
     "data": {
      "text/plain": [
       "PCCA(P=array([[3.63636e-02, 0.00000e+00, ..., 0.00000e+00, 8.48475e-03],\n",
       "       [0.00000e+00, 5.55112e-16, ..., 0.00000e+00, 0.00000e+00],\n",
       "       ...,\n",
       "       [0.00000e+00, 0.00000e+00, ..., 4.44089e-16, 0.00000e+00],\n",
       "       [1.92223e-02, 0.00000e+00, ..., 0.00000e+00, 3.70370e-02]]),\n",
       "   m=3)"
      ]
     },
     "execution_count": 28,
     "metadata": {},
     "output_type": "execute_result"
    }
   ],
   "source": [
    "msm.pcca(nstates)"
   ]
  },
  {
   "cell_type": "code",
   "execution_count": 26,
   "id": "a10cf5ef",
   "metadata": {},
   "outputs": [
    {
     "data": {
      "image/png": "[encoded data removed]",
      "text/plain": [
       "<Figure size 720x288 with 4 Axes>"
      ]
     },
     "metadata": {
      "needs_background": "light"
     },
     "output_type": "display_data"
    }
   ],
   "source": [
    "fig, axes = plt.subplots(1, 2, figsize=(10, 4), sharex=True, sharey=True)\n",
    "pyemma.plots.plot_contour(\n",
    "    *tica_concatenated[:, :2].T,\n",
    "    msm.pi[dtrajs_concatenated],\n",
    "    ax=axes[0],\n",
    "    mask=True,\n",
    "    cbar_label='stationary distribution')\n",
    "pyemma.plots.plot_free_energy(\n",
    "    *tica_concatenated[:, :2].T,\n",
    "    weights=np.concatenate(msm.trajectory_weights()),\n",
    "    ax=axes[1],\n",
    "    legacy=False)\n",
    "for ax in axes.flat:\n",
    "    ax.set_xlabel('IC 1')\n",
    "axes[0].set_ylabel('IC 2')\n",
    "axes[0].set_title('Stationary distribution', fontweight='bold')\n",
    "axes[1].set_title('Reweighted free energy surface', fontweight='bold')\n",
    "fig.tight_layout()\n",
    "plt.savefig('macro_energy.png')"
   ]
  },
  {
   "cell_type": "code",
   "execution_count": 27,
   "id": "048f304b",
   "metadata": {
    "scrolled": true
   },
   "outputs": [
    {
     "data": {
      "image/png": "[encoded data removed]",
      "text/plain": [
       "<Figure size 360x288 with 2 Axes>"
      ]
     },
     "metadata": {
      "needs_background": "light"
     },
     "output_type": "display_data"
    }
   ],
   "source": [
    "metastable_traj = msm.metastable_assignments[dtrajs_concatenated]\n",
    "\n",
    "fig, ax = plt.subplots(figsize=(5, 4))\n",
    "_, _, misc = pyemma.plots.plot_state_map(\n",
    "    *tica_concatenated[:, :2].T, metastable_traj, ax=ax)\n",
    "ax.set_xlabel('IC 1')\n",
    "ax.set_ylabel('IC 2')\n",
    "misc['cbar'].set_ticklabels([r'$\\mathcal{S}_%d$' % (i + 1)\n",
    "                             for i in range(nstates)])\n",
    "fig.tight_layout()"
   ]
  },
  {
   "cell_type": "code",
   "execution_count": 28,
   "id": "a155850e",
   "metadata": {},
   "outputs": [
    {
     "name": "stdout",
     "output_type": "stream",
     "text": [
      "MFPT / ns:\n"
     ]
    },
    {
     "data": {
      "text/html": [
       "<div>\n",
       "<style scoped>\n",
       "    .dataframe tbody tr th:only-of-type {\n",
       "        vertical-align: middle;\n",
       "    }\n",
       "\n",
       "    .dataframe tbody tr th {\n",
       "        vertical-align: top;\n",
       "    }\n",
       "\n",
       "    .dataframe thead th {\n",
       "        text-align: right;\n",
       "    }\n",
       "</style>\n",
       "<table border=\"1\" class=\"dataframe\">\n",
       "  <thead>\n",
       "    <tr style=\"text-align: right;\">\n",
       "      <th></th>\n",
       "      <th>1</th>\n",
       "      <th>2</th>\n",
       "      <th>3</th>\n",
       "    </tr>\n",
       "  </thead>\n",
       "  <tbody>\n",
       "    <tr>\n",
       "      <th>1</th>\n",
       "      <td>0.00</td>\n",
       "      <td>298.50</td>\n",
       "      <td>190.35</td>\n",
       "    </tr>\n",
       "    <tr>\n",
       "      <th>2</th>\n",
       "      <td>1864.67</td>\n",
       "      <td>0.00</td>\n",
       "      <td>115.88</td>\n",
       "    </tr>\n",
       "    <tr>\n",
       "      <th>3</th>\n",
       "      <td>1973.71</td>\n",
       "      <td>329.42</td>\n",
       "      <td>0.00</td>\n",
       "    </tr>\n",
       "  </tbody>\n",
       "</table>\n",
       "</div>"
      ],
      "text/plain": [
       "         1       2       3\n",
       "1     0.00  298.50  190.35\n",
       "2  1864.67    0.00  115.88\n",
       "3  1973.71  329.42    0.00"
      ]
     },
     "execution_count": 28,
     "metadata": {},
     "output_type": "execute_result"
    }
   ],
   "source": [
    "from itertools import product\n",
    "\n",
    "mfpt = np.zeros((nstates, nstates))\n",
    "for i, j in product(range(nstates), repeat=2):\n",
    "    mfpt[i, j] = msm.mfpt(\n",
    "        msm.metastable_sets[i],\n",
    "        msm.metastable_sets[j])\n",
    "\n",
    "from pandas import DataFrame\n",
    "print('MFPT / ns:')\n",
    "DataFrame(np.round(mfpt, decimals=2), index=range(1, nstates + 1), columns=range(1, nstates + 1))"
   ]
  },
  {
   "cell_type": "code",
   "execution_count": 29,
   "id": "ddc0d1f4",
   "metadata": {},
   "outputs": [],
   "source": [
    "tr=['traj_dat/whole.1.xtc','traj_dat/whole.2.xtc','traj_dat/whole.3.xtc']"
   ]
  },
  {
   "cell_type": "code",
   "execution_count": 30,
   "id": "86a3aa43",
   "metadata": {},
   "outputs": [
    {
     "data": {
      "application/vnd.jupyter.widget-view+json": {
       "model_id": "bd2e589b4dfa4d0abda7c78e2c89a81f",
       "version_major": 2,
       "version_minor": 0
      },
      "text/plain": [
       "Obtaining file info:   0%|                                                                                    …"
      ]
     },
     "metadata": {},
     "output_type": "display_data"
    },
    {
     "data": {
      "text/plain": [
       "['./pcca1_cont.gro', './pcca2_cont.gro', './pcca3_cont.gro']"
      ]
     },
     "execution_count": 30,
     "metadata": {},
     "output_type": "execute_result"
    }
   ],
   "source": [
    "pcca_samples = msm.sample_by_distributions(msm.metastable_distributions, 10)\n",
    "torsions_source = pyemma.coordinates.source(tr, top='traj_dat/10.gro')\n",
    "pyemma.coordinates.save_trajs(\n",
    "    torsions_source,\n",
    "    pcca_samples,\n",
    "    outfiles=['./pcca{}_cont.gro'.format(n + 1)\n",
    "              for n in range(msm.n_metastable)])"
   ]
  },
  {
   "cell_type": "code",
   "execution_count": 41,
   "id": "3c5a12b1",
   "metadata": {},
   "outputs": [
    {
     "data": {
      "application/vnd.jupyter.widget-view+json": {
       "model_id": "",
       "version_major": 2,
       "version_minor": 0
      },
      "text/plain": [
       "Obtaining file info:   0%|                                                  | 0/5 [00:00<?, ?it/s]"
      ]
     },
     "metadata": {},
     "output_type": "display_data"
    },
    {
     "data": {
      "application/vnd.jupyter.widget-view+json": {
       "model_id": "",
       "version_major": 2,
       "version_minor": 0
      },
      "text/plain": [
       "Obtaining file info:   0%|                                                  | 0/4 [00:00<?, ?it/s]"
      ]
     },
     "metadata": {},
     "output_type": "display_data"
    },
    {
     "data": {
      "application/vnd.jupyter.widget-view+json": {
       "model_id": "",
       "version_major": 2,
       "version_minor": 0
      },
      "text/plain": [
       "Obtaining file info:   0%|                                                  | 0/4 [00:00<?, ?it/s]"
      ]
     },
     "metadata": {},
     "output_type": "display_data"
    },
    {
     "data": {
      "application/vnd.jupyter.widget-view+json": {
       "model_id": "3be99fd3b97e459a82d414af46f4cfda",
       "version_major": 2,
       "version_minor": 0
      },
      "text/plain": []
     },
     "metadata": {},
     "output_type": "display_data"
    },
    {
     "data": {
      "application/vnd.jupyter.widget-view+json": {
       "model_id": "a54d0291f2584173a8a5af4352eb4859",
       "version_major": 2,
       "version_minor": 0
      },
      "text/plain": [
       "NGLWidget(max_frame=49)"
      ]
     },
     "metadata": {},
     "output_type": "display_data"
    }
   ],
   "source": [
    "my_samples = [pyemma.coordinates.save_traj(tr, idist, outfile=None, top=)\n",
    "              for idist in msm.sample_by_distributions(msm.metastable_distributions, 50)]\n",
    "\n",
    "cmap = mpl.cm.get_cmap('viridis', nstates)\n",
    "visualize_metastable(my_samples, cmap)"
   ]
  },
  {
   "cell_type": "markdown",
   "id": "62e3b106",
   "metadata": {},
   "source": [
    "print('state\\tπ\\t\\tG/kT')\n",
    "for i, s in enumerate(msm.metastable_sets):\n",
    "    p = msm.pi[s].sum()\n",
    "    print('{}\\t{:f}\\t{:f}'.format(i + 1, p, -np.log(p)))"
   ]
  },
  {
   "cell_type": "code",
   "execution_count": 31,
   "id": "9eebd39e",
   "metadata": {},
   "outputs": [],
   "source": [
    "start, final = 0, 2\n",
    "A = msm.metastable_sets[start]\n",
    "B = msm.metastable_sets[final]\n",
    "flux = pyemma.msm.tpt(msm, A, B)\n",
    "\n",
    "cg, cgflux = flux.coarse_grain(msm.metastable_sets)"
   ]
  },
  {
   "cell_type": "code",
   "execution_count": null,
   "id": "e6083b28",
   "metadata": {},
   "outputs": [],
   "source": [
    "# result=np.array([])\n",
    "# result2=[]\n",
    "# for traj in traj_list:\n",
    "#     a = dists.f1(traj,c1,c2)\n",
    "#     arr=np.append(a)\n",
    "#     b = dists.f1(traj,c1_2,c2)\n",
    "#     result2.append(b)"
   ]
  }
 ],
 "metadata": {
  "kernelspec": {
   "display_name": "Python 3 (ipykernel)",
   "language": "python",
   "name": "python3"
  },
  "language_info": {
   "codemirror_mode": {
    "name": "ipython",
    "version": 3
   },
   "file_extension": ".py",
   "mimetype": "text/x-python",
   "name": "python",
   "nbconvert_exporter": "python",
   "pygments_lexer": "ipython3",
   "version": "3.9.7"
  }
 },
 "nbformat": 4,
 "nbformat_minor": 5
}
