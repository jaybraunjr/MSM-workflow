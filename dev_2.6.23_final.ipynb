{
 "cells": [
  {
   "cell_type": "markdown",
   "id": "ec4a2632",
   "metadata": {},
   "source": [
    "Testing for organization of the library/classes of featurizing"
   ]
  },
  {
   "cell_type": "code",
   "execution_count": 178,
   "id": "c7a15ab6",
   "metadata": {},
   "outputs": [],
   "source": [
    "import itertools\n",
    "import numpy as np\n",
    "import pandas as pd\n",
    "import MDAnalysis as mda\n",
    "import matplotlib as mpl\n",
    "import matplotlib.pyplot as plt\n",
    "import mdtraj as md\n",
    "import pyemma\n",
    "from pyemma.coordinates import source\n",
    "from pyemma.util.contexts import settings"
   ]
  },
  {
   "cell_type": "markdown",
   "id": "da9d2bb2",
   "metadata": {},
   "source": [
    "Import our unique modules"
   ]
  },
  {
   "cell_type": "code",
   "execution_count": 179,
   "id": "5be5aea9",
   "metadata": {},
   "outputs": [],
   "source": [
    "import featurize.featurize as feat\n",
    "import featurize.caller as caller"
   ]
  },
  {
   "cell_type": "code",
   "execution_count": 180,
   "id": "bd63405a",
   "metadata": {},
   "outputs": [],
   "source": [
    "traj_list = ['traj_dat/w1.xtc', 'traj_dat/w2.xtc', 'traj_dat/w3.xtc']"
   ]
  },
  {
   "cell_type": "markdown",
   "id": "0b321b5a",
   "metadata": {},
   "source": [
    "Loading the files and whatnot"
   ]
  },
  {
   "cell_type": "code",
   "execution_count": 181,
   "id": "8f0f927c",
   "metadata": {},
   "outputs": [],
   "source": [
    "def load_trajectories(traj_files, top_file):\n",
    "    \"\"\"Load molecular dynamics simulation trajectories.\"\"\"\n",
    "    traj = md.load(traj_files, top=top_file)\n",
    "    return traj"
   ]
  },
  {
   "cell_type": "code",
   "execution_count": 182,
   "id": "9abcceb0",
   "metadata": {},
   "outputs": [],
   "source": [
    "def extract_features(traj_files, top_file):\n",
    "    \"\"\"Extract features from trajectories.\"\"\"\n",
    "    tr = top_file\n",
    "    feat_ = caller.feature(tr)\n",
    "    reader = pyemma.coordinates.source(traj_files, features=feat_)\n",
    "    return reader"
   ]
  },
  {
   "cell_type": "code",
   "execution_count": 183,
   "id": "bf4cf953",
   "metadata": {},
   "outputs": [],
   "source": [
    "# Load molecular dynamics simulation trajectories\n",
    "\n",
    "top_file = 'traj_dat/10.gro'\n",
    "traj = load_trajectories(traj_list, top_file)\n",
    "\n",
    "# Extract features from trajectories\n",
    "reader = extract_features(traj_list, top_file)"
   ]
  },
  {
   "cell_type": "code",
   "execution_count": 184,
   "id": "5073947b",
   "metadata": {},
   "outputs": [],
   "source": [
    "traj_list = ['traj_dat/w1.xtc','traj_dat/w2.xtc','traj_dat/w3.xtc']\n"
   ]
  },
  {
   "cell_type": "code",
   "execution_count": 185,
   "id": "cc1a4cf1",
   "metadata": {},
   "outputs": [
    {
     "name": "stdout",
     "output_type": "stream",
     "text": [
      "traj_dat/w1.xtc\n",
      "traj_dat/w2.xtc\n",
      "traj_dat/w3.xtc\n"
     ]
    }
   ],
   "source": [
    "n_list = []\n",
    "ls = []\n",
    "for item in traj_list:\n",
    "    print(item)\n",
    "    n_list.append(md.load(item, top='traj_dat/10.gro'))\n",
    "    u_ = mda.Universe('traj_dat/10.gro', item)\n",
    "    ls.append(u_)\n"
   ]
  },
  {
   "cell_type": "code",
   "execution_count": 186,
   "id": "99c69cbd",
   "metadata": {},
   "outputs": [
    {
     "data": {
      "text/plain": [
       "[<Universe with 234791 atoms>,\n",
       " <Universe with 234791 atoms>,\n",
       " <Universe with 234791 atoms>]"
      ]
     },
     "execution_count": 186,
     "metadata": {},
     "output_type": "execute_result"
    }
   ],
   "source": [
    "ls"
   ]
  },
  {
   "cell_type": "markdown",
   "id": "bf2ef0d1",
   "metadata": {},
   "source": [
    "MDAnalysis contacts"
   ]
  },
  {
   "cell_type": "code",
   "execution_count": 187,
   "id": "29e3ab4d",
   "metadata": {},
   "outputs": [],
   "source": [
    "universes = [mda.Universe('traj_dat/10.gro', traj) for traj in traj_list]\n",
    "\n",
    "# Define lipid and protein selections\n",
    "lipid_selection = '(resname POPC DOPE SAPI)'\n",
    "prot_selections = [f\"(resid {i}) and (not backbone)\" for i in range(1, 11)]\n",
    "\n",
    "# Initialize contact analysis class\n",
    "contact_analysis = feat.cont()\n",
    "\n",
    "# Run analysis for each trajectory and each protein selection\n",
    "results = []\n",
    "for universe in universes:\n",
    "    for prot_sel in prot_selections:\n",
    "        result = contact_analysis.contacts_MDA(universe, universe.select_atoms(prot_sel), universe.select_atoms(lipid_selection))\n",
    "        results.append(result)"
   ]
  },
  {
   "cell_type": "code",
   "execution_count": 188,
   "id": "0387a67c",
   "metadata": {},
   "outputs": [
    {
     "data": {
      "text/plain": [
       "['(resid 1) and (not backbone)',\n",
       " '(resid 2) and (not backbone)',\n",
       " '(resid 3) and (not backbone)',\n",
       " '(resid 4) and (not backbone)',\n",
       " '(resid 5) and (not backbone)',\n",
       " '(resid 6) and (not backbone)',\n",
       " '(resid 7) and (not backbone)',\n",
       " '(resid 8) and (not backbone)',\n",
       " '(resid 9) and (not backbone)',\n",
       " '(resid 10) and (not backbone)']"
      ]
     },
     "execution_count": 188,
     "metadata": {},
     "output_type": "execute_result"
    }
   ],
   "source": [
    "prot_selections"
   ]
  },
  {
   "cell_type": "code",
   "execution_count": 189,
   "id": "6e449d12",
   "metadata": {},
   "outputs": [],
   "source": [
    "\n",
    "from pyemma.coordinates.data.featurization.misc import GroupCOMFeature\n",
    "c1 = GroupCOMFeature(feat_.topology, [list(range(1,367))])"
   ]
  },
  {
   "cell_type": "code",
   "execution_count": 190,
   "id": "c1dc5478",
   "metadata": {},
   "outputs": [
    {
     "data": {
      "text/plain": [
       "pyemma.coordinates.data.featurization.misc.GroupCOMFeature"
      ]
     },
     "execution_count": 190,
     "metadata": {},
     "output_type": "execute_result"
    }
   ],
   "source": [
    "type(c1)"
   ]
  },
  {
   "cell_type": "markdown",
   "id": "20fb3114",
   "metadata": {},
   "source": [
    "mdtraj distance calculation"
   ]
  },
  {
   "cell_type": "code",
   "execution_count": 191,
   "id": "1dbee49b",
   "metadata": {
    "scrolled": true
   },
   "outputs": [
    {
     "name": "stdout",
     "output_type": "stream",
     "text": [
      "Working on feature: c1\n",
      "Working on feature: c2\n",
      "Working on feature: c3\n",
      "Working on feature: c4\n",
      "Working on feature: c5\n",
      "Working on feature: c6\n",
      "Working on feature: c7\n",
      "Working on feature: c8\n",
      "Working on feature: c9\n",
      "Working on feature: c10\n",
      "Working on feature: c1\n",
      "Working on feature: c2\n",
      "Working on feature: c3\n",
      "Working on feature: c4\n",
      "Working on feature: c5\n",
      "Working on feature: c6\n",
      "Working on feature: c7\n",
      "Working on feature: c8\n",
      "Working on feature: c9\n",
      "Working on feature: c10\n",
      "Working on feature: c1\n",
      "Working on feature: c2\n",
      "Working on feature: c3\n",
      "Working on feature: c4\n",
      "Working on feature: c5\n",
      "Working on feature: c6\n",
      "Working on feature: c7\n",
      "Working on feature: c8\n",
      "Working on feature: c9\n",
      "Working on feature: c10\n"
     ]
    }
   ],
   "source": [
    "tr = 'traj_dat/10.gro'\n",
    "feat_ = caller.feature(tr)\n",
    "\n",
    "from pyemma.coordinates.data.featurization.misc import GroupCOMFeature\n",
    "c1 = GroupCOMFeature(feat_.topology, [list(range(1,367))])\n",
    "c1_ = GroupCOMFeature(feat_.topology, [list(range(628,33617))])\n",
    "c2 = GroupCOMFeature(feat_.topology, [list(range(1,2))])\n",
    "c3 = GroupCOMFeature(feat_.topology, [list(range(626,627))])\n",
    "c4 = GroupCOMFeature(feat_.topology, [list(range(128,129))])\n",
    "c5 = GroupCOMFeature(feat_.topology, [list(range(228,229))])\n",
    "c6 = GroupCOMFeature(feat_.topology, [list(range(328,339))])\n",
    "c7 = GroupCOMFeature(feat_.topology, [list(range(428,429))])\n",
    "c8 = GroupCOMFeature(feat_.topology, [list(range(528,529))])\n",
    "c9 = GroupCOMFeature(feat_.topology, [list(range(600,601))])\n",
    "c10 = GroupCOMFeature(feat_.topology, [list(range(28,29))])\n",
    "\n",
    "group_features_dict = {\n",
    "    'c1': c1,\n",
    "    'c2': c2,\n",
    "    'c3': c3,\n",
    "    'c4': c4,\n",
    "    'c5': c5,\n",
    "    'c6': c6,\n",
    "    'c7': c7,\n",
    "    'c8': c8,\n",
    "    'c9': c9,\n",
    "    'c10': c10,\n",
    "    }\n",
    "\n",
    "d_bil = feat.dist()\n",
    "\n",
    "ls2 = []\n",
    "def run_func2():\n",
    "    for traj in n_list:\n",
    "        for name, feature in group_features_dict.items():\n",
    "            print('Working on feature:', name)\n",
    "            ls2.append(d_bil.dist_bil(traj, c1_, feature))\n",
    "    return ls2\n",
    "\n",
    "l2 = run_func2()\n",
    "\n",
    "\n",
    "\n",
    "\n"
   ]
  },
  {
   "cell_type": "code",
   "execution_count": 34,
   "id": "8521024d",
   "metadata": {},
   "outputs": [],
   "source": [
    "d_bil = feat.dist()"
   ]
  },
  {
   "cell_type": "code",
   "execution_count": 50,
   "id": "86199d32",
   "metadata": {},
   "outputs": [],
   "source": [
    "a =[list(range(1,367))]\n",
    "bil =  [list(range(628,33617))]\n",
    "b =  [list(range(1,2))]\n",
    "c = [list(range(626,627))]\n",
    "d = [list(range(128,129))]\n",
    "e = [list(range(228,229))]\n",
    "f = [list(range(328,339))]\n",
    "g =  [list(range(428,429))]\n",
    "h = [list(range(528,529))]\n",
    "i = [list(range(600,601))]\n",
    "j =  [list(range(28,29))]"
   ]
  },
  {
   "cell_type": "code",
   "execution_count": 52,
   "id": "c118d8b4",
   "metadata": {},
   "outputs": [],
   "source": [
    "def calulate_dists(top_file, bil, a ,b ,c,d,e,f,g,h,i,j):\n",
    "    bil = GroupCOMFeature(top_file.topology,bil)\n",
    "    a = GroupCOMFeature(top_file.topology, a)\n",
    "    \n",
    "    b = GroupCOMFeature(top_file.topology, b)\n",
    "    c = GroupCOMFeature(top_file.topology, c)\n",
    "    d = GroupCOMFeature(top_file.topology, d)\n",
    "    e = GroupCOMFeature(top_file.topology, e)\n",
    "    f = GroupCOMFeature(top_file.topology, f)\n",
    "    g = GroupCOMFeature(top_file.topology, g)\n",
    "    h = GroupCOMFeature(top_file.topology, h)\n",
    "    i = GroupCOMFeature(top_file.topology, i)\n",
    "    j = GroupCOMFeature(top_file.topology, j)\n",
    "#     k = GroupCOMFeature(top_file.topology, k)\n",
    "\n",
    "    group_features_dict = {'a': a, 'b': b, 'c': c, 'd': d, 'e': e, 'f': f, 'g': g, 'h': h, 'i': i, 'j': j}\n",
    "    d_bil = feat.dist()\n",
    "    ls2 = []\n",
    "    for traj in n_list:\n",
    "        for name, feature in group_features_dict.items():\n",
    "            ls2.append(d_bil.dist_bil(traj,bil, feature))\n",
    "    return ls2\n"
   ]
  },
  {
   "cell_type": "code",
   "execution_count": 93,
   "id": "10978626",
   "metadata": {
    "scrolled": false
   },
   "outputs": [],
   "source": [
    "test = calulate_dists(feat_,bil,a ,b ,c,d,e,f,g,h,i,j)"
   ]
  },
  {
   "cell_type": "code",
   "execution_count": 94,
   "id": "7f9b54ff",
   "metadata": {},
   "outputs": [
    {
     "name": "stderr",
     "output_type": "stream",
     "text": [
      "/home/jaybraun/miniconda3/lib/python3.9/site-packages/numpy/core/fromnumeric.py:2007: VisibleDeprecationWarning: Creating an ndarray from ragged nested sequences (which is a list-or-tuple of lists-or-tuples-or ndarrays with different lengths or shapes) is deprecated. If you meant to do this, you must specify 'dtype=object' when creating the ndarray.\n",
      "  result = asarray(a).shape\n"
     ]
    },
    {
     "data": {
      "text/plain": [
       "(30,)"
      ]
     },
     "execution_count": 94,
     "metadata": {},
     "output_type": "execute_result"
    }
   ],
   "source": [
    "np.shape(test)"
   ]
  },
  {
   "cell_type": "code",
   "execution_count": 160,
   "id": "b80f256b",
   "metadata": {
    "scrolled": true
   },
   "outputs": [
    {
     "name": "stderr",
     "output_type": "stream",
     "text": [
      "/home/jaybraun/miniconda3/lib/python3.9/site-packages/numpy/core/fromnumeric.py:43: VisibleDeprecationWarning: Creating an ndarray from ragged nested sequences (which is a list-or-tuple of lists-or-tuples-or ndarrays with different lengths or shapes) is deprecated. If you meant to do this, you must specify 'dtype=object' when creating the ndarray.\n",
      "  result = getattr(asarray(obj), method)(*args, **kwds)\n"
     ]
    }
   ],
   "source": [
    "\n",
    "# splits breaks it into the correct amount of trajectories\n",
    "\n",
    "splits2 = np.array_split(results, 3)\n",
    "splits1 = np.array_split(l2, 3)\n",
    "\n",
    "# here we are pushing to have the whole thing reshaped\n",
    "\n",
    "processor1 = caller.ChunkProcessor(splits1, 10)\n",
    "processor2 = caller.ChunkProcessor(splits2, 10)\n",
    "# processor_ = caller.ChunkProcessor()\n",
    "\n",
    "m1 = processor1.fubar(splits1, 10)\n",
    "m2 = processor2.fubar(splits2, 10)\n",
    "# m_ = processor2.fubar()"
   ]
  },
  {
   "cell_type": "code",
   "execution_count": 161,
   "id": "5d54e735",
   "metadata": {},
   "outputs": [],
   "source": [
    "combined_array = np.hstack((m1, m2))\n",
    "list_ = combined_array.tolist()"
   ]
  },
  {
   "cell_type": "code",
   "execution_count": 162,
   "id": "0b1237e6",
   "metadata": {},
   "outputs": [
    {
     "data": {
      "text/plain": [
       "featurize.caller.ReturnInputs"
      ]
     },
     "execution_count": 162,
     "metadata": {},
     "output_type": "execute_result"
    }
   ],
   "source": [
    "caller.ReturnInputs"
   ]
  },
  {
   "cell_type": "code",
   "execution_count": 81,
   "id": "cdbf086c",
   "metadata": {},
   "outputs": [],
   "source": [
    "def reshaping(inp1,inp2, traj_chunk, feat_len1, feat_len2):\n",
    "    splits1 = np.array_split(inp1, traj_chunk)\n",
    "    splits2 = np.array_split(inp2, traj_chunk)\n",
    "    processor_a = caller.ChunkProcessor(splits1, feat_len1)\n",
    "    processor_b = caller.ChunkProcessor(splits2, feat_len2)\n",
    "    m1 = processor_a.fubar(splits1,feat_len1)\n",
    "    m2 = processor_b.fubar(splits2,feat_len2)\n",
    "    compbined_array = np.concatenate((m1,m2), axis=1)\n",
    "    list_ = compbined_array.tolist()\n",
    "    processor1 = caller.ReturnInputs()\n",
    "    processor2 = caller.ReturnInputs()\n",
    "    processor3 = caller.ReturnInputs()\n",
    "    in1 = processor1.return_inputs(list_,0,20)\n",
    "    in2 = processor2.return_inputs(list_,1,20)\n",
    "    in3 = processor3.return_inputs(list_,2,20)\n",
    "    conts = in1+in2+in3\n",
    "    print(conts,'conts')\n",
    "    return conts\n"
   ]
  },
  {
   "cell_type": "code",
   "execution_count": 84,
   "id": "96bced83",
   "metadata": {
    "scrolled": false
   },
   "outputs": [
    {
     "name": "stdout",
     "output_type": "stream",
     "text": [
      "(2, 1, 10, 11)\n",
      "(2, 1, 10, 5)\n",
      "(2, 1, 10, 11)\n",
      "[array([[  0.14719187,   0.16049286,   0.14558569,   0.14968251,\n",
      "          0.13328343,   0.16076352,   0.15808258,   0.13984436,\n",
      "          0.13939599,   0.1503803 ,  19.        ,   0.        ,\n",
      "          0.        ,  13.        ,  25.        ,   0.        ,\n",
      "          0.        ,   9.        ,  20.        ,   0.        ],\n",
      "       [  0.14327949,   0.16512864,   0.16318843,   0.1417056 ,\n",
      "          0.12693762,   0.16058209,   0.15637501,   0.16158001,\n",
      "          0.15040115,   0.15354182,  46.        ,  16.        ,\n",
      "          0.        ,  19.        ,  17.        ,   0.        ,\n",
      "          0.        ,  21.        ,  22.        ,   0.        ],\n",
      "       [  0.14262521,   0.16133862,   0.15498725,   0.14204257,\n",
      "          0.12948095,   0.16760605,   0.15064455,   0.15827436,\n",
      "          0.13548038,   0.14673207,  48.        ,  10.        ,\n",
      "          0.        ,   5.        ,   0.        ,   0.        ,\n",
      "          0.        ,  10.        ,   0.        ,   0.        ],\n",
      "       [  0.14506885,   0.1544623 ,   0.1710843 ,   0.1454742 ,\n",
      "          0.12934818,   0.16909498,   0.16010065,   0.16307706,\n",
      "          0.14783997,   0.1521359 ,  26.        ,   0.        ,\n",
      "          0.        ,   7.        ,   0.        ,   0.        ,\n",
      "          0.        ,   4.        ,   0.        ,   0.        ],\n",
      "       [  0.15303203,   0.15760697,   0.1579555 ,   0.15177048,\n",
      "          0.13670734,   0.18620157,   0.16812669,   0.16747904,\n",
      "          0.14423986,   0.15728475,  56.        ,  37.        ,\n",
      "          0.        ,   8.        ,  14.        ,   0.        ,\n",
      "          0.        ,  21.        ,   0.        ,   0.        ],\n",
      "       [  0.15349633,   0.17137544,   0.16455103,   0.15422241,\n",
      "          0.13720917,   0.18096256,   0.16457809,   0.17294628,\n",
      "          0.14900591,   0.1637159 ,  25.        ,   0.        ,\n",
      "          0.        ,   5.        ,  16.        ,   1.        ,\n",
      "          0.        ,  11.        ,  21.        ,   0.        ],\n",
      "       [  0.16187276,   0.16409009,   0.16702262,   0.16605192,\n",
      "          0.14509126,   0.18639207,   0.16544748,   0.17116797,\n",
      "          0.15996895,   0.17143209,  40.        ,  23.        ,\n",
      "          0.        ,  21.        ,  15.        ,   0.        ,\n",
      "          0.        ,   9.        ,  44.        ,   3.        ],\n",
      "       [  0.17277014,   0.18089064,   0.17491076,   0.1743922 ,\n",
      "          0.15700555,   0.20120581,   0.1673584 ,   0.19025149,\n",
      "          0.15505796,   0.17952671,  63.        ,  53.        ,\n",
      "          0.        ,  40.        ,  16.        ,   0.        ,\n",
      "          0.        ,  60.        ,  31.        ,   0.        ],\n",
      "       [  0.15074737,   0.15477055,   0.15050771,   0.15055304,\n",
      "          0.13502243,   0.17964285,   0.16433373,   0.16649525,\n",
      "          0.13802284,   0.15422155, 110.        ,  49.        ,\n",
      "          0.        ,  11.        ,  12.        ,   0.        ,\n",
      "          0.        ,  21.        ,  56.        ,   0.        ],\n",
      "       [  0.15883645,   0.16116675,   0.1539704 ,   0.15898871,\n",
      "          0.14409732,   0.19183339,   0.16595431,   0.17156325,\n",
      "          0.16466994,   0.16103695,  87.        ,  49.        ,\n",
      "         21.        ,  34.        ,  26.        ,  20.        ,\n",
      "          0.        ,  13.        ,  42.        ,   1.        ],\n",
      "       [  0.15342947,   0.16713241,   0.15900072,   0.15185385,\n",
      "          0.13564325,   0.17847812,   0.17046579,   0.18253908,\n",
      "          0.18304024,   0.16635392,  28.        ,   0.        ,\n",
      "         14.        ,   8.        ,   0.        ,   0.        ,\n",
      "          0.        ,   0.        ,   0.        ,   0.        ]]), array([[ 0.14755869,  0.1653954 ,  0.14589773,  0.14818948,  0.13267673,\n",
      "         0.16154696,  0.15910606,  0.14382039,  0.14236667,  0.15443738,\n",
      "        29.        ,  4.        ,  0.        , 11.        , 11.        ,\n",
      "         0.        ,  0.        ,  0.        ,  0.        ,  0.        ],\n",
      "       [ 0.11456558,  0.11322872,  0.09312131,  0.11624283,  0.11302398,\n",
      "         0.11857847,  0.11061114,  0.10263063,  0.10019356,  0.11868477,\n",
      "         0.        ,  0.        ,  0.        ,  0.        ,  0.        ,\n",
      "         0.        ,  0.        ,  0.        ,  0.        ,  0.        ],\n",
      "       [ 0.11933343,  0.1116866 ,  0.09724197,  0.11963689,  0.13334   ,\n",
      "         0.11694056,  0.10323513,  0.10491389,  0.09577969,  0.11273163,\n",
      "         0.        ,  0.        ,  0.        ,  0.        ,  0.        ,\n",
      "         0.        ,  0.        ,  0.        ,  0.        ,  0.        ],\n",
      "       [ 0.08619591,  0.0904365 ,  0.09784274,  0.08541546,  0.08495829,\n",
      "         0.08257832,  0.0900051 ,  0.09417542,  0.10461912,  0.08620331,\n",
      "         0.        ,  0.        ,  0.        ,  0.        ,  0.        ,\n",
      "         0.        ,  0.        ,  0.        ,  0.        ,  0.        ],\n",
      "       [ 0.12836693,  0.13801951,  0.1293602 ,  0.12808439,  0.11929825,\n",
      "         0.13933353,  0.13377295,  0.12529205,  0.11987026,  0.14097706,\n",
      "         0.        ,  0.        ,  0.        ,  0.        ,  0.        ,\n",
      "         0.        ,  0.        ,  0.        ,  0.        ,  0.        ]]), array([[1.47907209e-01, 1.59526462e-01, 1.47393640e-01, 1.49576273e-01,\n",
      "        1.35344492e-01, 1.61799267e-01, 1.60447888e-01, 1.43275652e-01,\n",
      "        1.43316736e-01, 1.51617329e-01, 3.40000000e+01, 4.00000000e+00,\n",
      "        0.00000000e+00, 2.70000000e+01, 1.40000000e+01, 0.00000000e+00,\n",
      "        0.00000000e+00, 7.00000000e+00, 2.60000000e+01, 0.00000000e+00],\n",
      "       [8.83431383e-02, 9.98235338e-02, 9.63235411e-02, 8.88124984e-02,\n",
      "        8.10985444e-02, 9.03639087e-02, 8.97128313e-02, 9.35044527e-02,\n",
      "        9.20922467e-02, 9.84089544e-02, 0.00000000e+00, 0.00000000e+00,\n",
      "        0.00000000e+00, 0.00000000e+00, 0.00000000e+00, 0.00000000e+00,\n",
      "        0.00000000e+00, 0.00000000e+00, 0.00000000e+00, 0.00000000e+00],\n",
      "       [8.19955141e-02, 8.81083583e-02, 8.52684944e-02, 8.22865044e-02,\n",
      "        7.70020863e-02, 8.72190608e-02, 8.24357379e-02, 8.58615180e-02,\n",
      "        8.03428318e-02, 8.81549608e-02, 0.00000000e+00, 0.00000000e+00,\n",
      "        0.00000000e+00, 0.00000000e+00, 0.00000000e+00, 0.00000000e+00,\n",
      "        0.00000000e+00, 0.00000000e+00, 0.00000000e+00, 0.00000000e+00],\n",
      "       [9.91829410e-02, 1.05227782e-01, 9.69067945e-02, 9.95104681e-02,\n",
      "        9.19777556e-02, 1.06677139e-01, 1.06335537e-01, 1.00957135e-01,\n",
      "        1.03421238e-01, 1.06233869e-01, 0.00000000e+00, 0.00000000e+00,\n",
      "        0.00000000e+00, 0.00000000e+00, 0.00000000e+00, 0.00000000e+00,\n",
      "        0.00000000e+00, 0.00000000e+00, 0.00000000e+00, 0.00000000e+00],\n",
      "       [1.47857573e-01, 1.62896265e-01, 1.44219476e-01, 1.47299782e-01,\n",
      "        1.32804304e-01, 1.74367877e-01, 1.60105642e-01, 1.63857173e-01,\n",
      "        1.64775157e-01, 1.55162025e-01, 6.40000000e+01, 6.00000000e+00,\n",
      "        2.90000000e+01, 3.00000000e+00, 0.00000000e+00, 0.00000000e+00,\n",
      "        0.00000000e+00, 0.00000000e+00, 0.00000000e+00, 0.00000000e+00],\n",
      "       [1.55801889e-01, 1.79250732e-01, 1.75970292e-01, 1.52304881e-01,\n",
      "        1.39649639e-01, 1.73374619e-01, 1.72957181e-01, 1.91725974e-01,\n",
      "        2.01500063e-01, 1.69469184e-01, 4.80000000e+01, 1.50000000e+01,\n",
      "        1.50000000e+01, 0.00000000e+00, 2.00000000e+00, 0.00000000e+00,\n",
      "        0.00000000e+00, 3.00000000e+00, 0.00000000e+00, 0.00000000e+00],\n",
      "       [1.62729553e-01, 1.96722018e-01, 1.72315310e-01, 1.64627622e-01,\n",
      "        1.41176834e-01, 1.75317652e-01, 1.67917235e-01, 1.94881821e-01,\n",
      "        1.92000673e-01, 1.90211168e-01, 1.10000000e+01, 0.00000000e+00,\n",
      "        2.50000000e+01, 0.00000000e+00, 0.00000000e+00, 0.00000000e+00,\n",
      "        0.00000000e+00, 0.00000000e+00, 0.00000000e+00, 0.00000000e+00],\n",
      "       [1.62846934e-01, 1.70639931e-01, 1.42403624e-01, 1.63980315e-01,\n",
      "        1.46064445e-01, 1.93652200e-01, 1.70698183e-01, 1.73391569e-01,\n",
      "        1.64061018e-01, 1.71282936e-01, 8.40000000e+01, 3.00000000e+01,\n",
      "        7.00000000e+00, 2.90000000e+01, 1.30000000e+01, 1.00000000e+01,\n",
      "        0.00000000e+00, 1.00000000e+01, 6.50000000e+01, 0.00000000e+00],\n",
      "       [1.56800204e-01, 1.85775787e-01, 1.63858337e-01, 1.55428356e-01,\n",
      "        1.36708531e-01, 1.77350972e-01, 1.75690332e-01, 1.85259541e-01,\n",
      "        1.85328220e-01, 1.74647086e-01, 7.70000000e+01, 1.80000000e+01,\n",
      "        1.60000000e+01, 4.40000000e+01, 1.90000000e+01, 0.00000000e+00,\n",
      "        0.00000000e+00, 1.40000000e+01, 9.00000000e+00, 0.00000000e+00],\n",
      "       [1.52695995e-01, 1.70852744e-01, 1.54059621e-01, 1.51538265e-01,\n",
      "        1.33582805e-01, 1.76874012e-01, 1.57035339e-01, 1.78987151e-01,\n",
      "        1.72473455e-01, 1.66472634e-01, 3.10000000e+01, 0.00000000e+00,\n",
      "        0.00000000e+00, 1.30000000e+01, 0.00000000e+00, 0.00000000e+00,\n",
      "        0.00000000e+00, 0.00000000e+00, 0.00000000e+00, 0.00000000e+00],\n",
      "       [1.56442209e-01, 1.78736084e-01, 1.63804432e-01, 1.53920957e-01,\n",
      "        1.38795563e-01, 1.79541631e-01, 1.64450931e-01, 1.82088302e-01,\n",
      "        1.75597526e-01, 1.71149608e-01, 4.40000000e+01, 2.30000000e+01,\n",
      "        0.00000000e+00, 1.00000000e+01, 1.50000000e+01, 5.00000000e+00,\n",
      "        0.00000000e+00, 1.20000000e+01, 1.50000000e+01, 0.00000000e+00]])] conts\n"
     ]
    },
    {
     "name": "stderr",
     "output_type": "stream",
     "text": [
      "/home/jaybraun/miniconda3/lib/python3.9/site-packages/numpy/core/fromnumeric.py:43: VisibleDeprecationWarning: Creating an ndarray from ragged nested sequences (which is a list-or-tuple of lists-or-tuples-or ndarrays with different lengths or shapes) is deprecated. If you meant to do this, you must specify 'dtype=object' when creating the ndarray.\n",
      "  result = getattr(asarray(obj), method)(*args, **kwds)\n"
     ]
    }
   ],
   "source": [
    "test = reshaping(ls2,results,3,10,10)"
   ]
  },
  {
   "cell_type": "code",
   "execution_count": 168,
   "id": "aa4f52ba",
   "metadata": {},
   "outputs": [
    {
     "data": {
      "text/plain": [
       "(5, 1)"
      ]
     },
     "execution_count": 168,
     "metadata": {},
     "output_type": "execute_result"
    }
   ],
   "source": [
    "np.shape(test[10])"
   ]
  },
  {
   "cell_type": "code",
   "execution_count": 169,
   "id": "2c3e14b1",
   "metadata": {},
   "outputs": [
    {
     "name": "stdout",
     "output_type": "stream",
     "text": [
      "(2, 1, 10, 11)\n",
      "(2, 1, 10, 5)\n",
      "(2, 1, 10, 11)\n"
     ]
    }
   ],
   "source": [
    "processor1 = caller.ReturnInputs()\n",
    "processor2 = caller.ReturnInputs()\n",
    "processor3 = caller.ReturnInputs()\n",
    "\n",
    "in1 = processor1.return_inputs(list_,0,20)\n",
    "in2 = processor2.return_inputs(list_,1,20)\n",
    "in3 = processor3.return_inputs(list_,2,20)"
   ]
  },
  {
   "cell_type": "code",
   "execution_count": 170,
   "id": "70118215",
   "metadata": {
    "scrolled": true
   },
   "outputs": [
    {
     "name": "stdout",
     "output_type": "stream",
     "text": [
      "(1, 11, 20)\n",
      "(1, 5, 20)\n",
      "(1, 11, 20)\n"
     ]
    }
   ],
   "source": [
    "print(np.shape(in1))\n",
    "print(np.shape(in2))\n",
    "print(np.shape(in3))"
   ]
  },
  {
   "cell_type": "code",
   "execution_count": 171,
   "id": "72d8e91f",
   "metadata": {},
   "outputs": [],
   "source": [
    "conts=in1+in2+in3"
   ]
  },
  {
   "cell_type": "code",
   "execution_count": 172,
   "id": "0f22280a",
   "metadata": {},
   "outputs": [],
   "source": [
    "dims = [(11, 20), (5, 20), (11, 20)]\n",
    "\n",
    "arrs = [np.array(conts[i]).reshape(*dims[i]) for i in range(len(conts))]"
   ]
  },
  {
   "cell_type": "code",
   "execution_count": 193,
   "id": "55c848ee",
   "metadata": {},
   "outputs": [
    {
     "data": {
      "text/plain": [
       "(11, 20)"
      ]
     },
     "execution_count": 193,
     "metadata": {},
     "output_type": "execute_result"
    }
   ],
   "source": [
    "np.shape(arrs[0])"
   ]
  },
  {
   "cell_type": "code",
   "execution_count": 174,
   "id": "41817f83",
   "metadata": {},
   "outputs": [],
   "source": [
    "j1 = np.array(in1)\n",
    "j2 = np.array(in2)\n",
    "j3 = np.array(in3)\n",
    "resh1 = j1.reshape(11,20)\n",
    "resh2 = j2.reshape(5,20)\n",
    "resh3 = j3.reshape(11,20)"
   ]
  },
  {
   "cell_type": "code",
   "execution_count": 175,
   "id": "258e66bf",
   "metadata": {},
   "outputs": [],
   "source": [
    "arrls = [resh1,resh2,resh3]"
   ]
  },
  {
   "cell_type": "markdown",
   "id": "173b7475",
   "metadata": {},
   "source": [
    "Dev for 2/10/23\n"
   ]
  },
  {
   "cell_type": "code",
   "execution_count": 143,
   "id": "de80c97e",
   "metadata": {},
   "outputs": [],
   "source": [
    "dims = [(11, 20), (5, 20), (11, 20)]\n",
    "def save_reader(inputs, name_prefix,dims=dims):\n",
    "    \n",
    "\n",
    "    arrs = [np.array(conts[i]).reshape(*dims[i]) for i in range(len(conts))]\n",
    " \n",
    "    for i in range(len(inputs)):\n",
    "        with open(f'{name_prefix}_{i:03d}.npy','wb') as handle:\n",
    "            np.save(handle, inputs[i])"
   ]
  },
  {
   "cell_type": "code",
   "execution_count": 194,
   "id": "04710f6c",
   "metadata": {},
   "outputs": [
    {
     "data": {
      "text/plain": [
       "array([[ 0.14755869,  0.1653954 ,  0.14589773,  0.14818948,  0.13267673,\n",
       "         0.16154696,  0.15910606,  0.14382039,  0.14236667,  0.15443738,\n",
       "        29.        ,  4.        ,  0.        , 11.        , 11.        ,\n",
       "         0.        ,  0.        ,  0.        ,  0.        ,  0.        ],\n",
       "       [ 0.11456558,  0.11322872,  0.09312131,  0.11624283,  0.11302398,\n",
       "         0.11857847,  0.11061114,  0.10263063,  0.10019356,  0.11868477,\n",
       "         0.        ,  0.        ,  0.        ,  0.        ,  0.        ,\n",
       "         0.        ,  0.        ,  0.        ,  0.        ,  0.        ],\n",
       "       [ 0.11933343,  0.1116866 ,  0.09724197,  0.11963689,  0.13334   ,\n",
       "         0.11694056,  0.10323513,  0.10491389,  0.09577969,  0.11273163,\n",
       "         0.        ,  0.        ,  0.        ,  0.        ,  0.        ,\n",
       "         0.        ,  0.        ,  0.        ,  0.        ,  0.        ],\n",
       "       [ 0.08619591,  0.0904365 ,  0.09784274,  0.08541546,  0.08495829,\n",
       "         0.08257832,  0.0900051 ,  0.09417542,  0.10461912,  0.08620331,\n",
       "         0.        ,  0.        ,  0.        ,  0.        ,  0.        ,\n",
       "         0.        ,  0.        ,  0.        ,  0.        ,  0.        ],\n",
       "       [ 0.12836693,  0.13801951,  0.1293602 ,  0.12808439,  0.11929825,\n",
       "         0.13933353,  0.13377295,  0.12529205,  0.11987026,  0.14097706,\n",
       "         0.        ,  0.        ,  0.        ,  0.        ,  0.        ,\n",
       "         0.        ,  0.        ,  0.        ,  0.        ,  0.        ]])"
      ]
     },
     "execution_count": 194,
     "metadata": {},
     "output_type": "execute_result"
    }
   ],
   "source": [
    "arrs[1]"
   ]
  },
  {
   "cell_type": "code",
   "execution_count": 138,
   "id": "4cf3e8bd",
   "metadata": {},
   "outputs": [
    {
     "data": {
      "text/plain": [
       "[array([[ 19.        ,   0.        ,   0.        ,  13.        ,\n",
       "          25.        ,   0.        ,   0.        ,   9.        ,\n",
       "          20.        ,   0.        ,   0.14719187,   0.16049286,\n",
       "           0.14558569,   0.14968251,   0.13328343,   0.16076352,\n",
       "           0.15808258,   0.13984436,   0.13939599,   0.1503803 ],\n",
       "        [ 46.        ,  16.        ,   0.        ,  19.        ,\n",
       "          17.        ,   0.        ,   0.        ,  21.        ,\n",
       "          22.        ,   0.        ,   0.14327949,   0.16512864,\n",
       "           0.16318843,   0.1417056 ,   0.12693762,   0.16058209,\n",
       "           0.15637501,   0.16158001,   0.15040115,   0.15354182],\n",
       "        [ 48.        ,  10.        ,   0.        ,   5.        ,\n",
       "           0.        ,   0.        ,   0.        ,  10.        ,\n",
       "           0.        ,   0.        ,   0.14262521,   0.16133862,\n",
       "           0.15498725,   0.14204257,   0.12948095,   0.16760605,\n",
       "           0.15064455,   0.15827436,   0.13548038,   0.14673207],\n",
       "        [ 26.        ,   0.        ,   0.        ,   7.        ,\n",
       "           0.        ,   0.        ,   0.        ,   4.        ,\n",
       "           0.        ,   0.        ,   0.14506885,   0.1544623 ,\n",
       "           0.1710843 ,   0.1454742 ,   0.12934818,   0.16909498,\n",
       "           0.16010065,   0.16307706,   0.14783997,   0.1521359 ],\n",
       "        [ 56.        ,  37.        ,   0.        ,   8.        ,\n",
       "          14.        ,   0.        ,   0.        ,  21.        ,\n",
       "           0.        ,   0.        ,   0.15303203,   0.15760697,\n",
       "           0.1579555 ,   0.15177048,   0.13670734,   0.18620157,\n",
       "           0.16812669,   0.16747904,   0.14423986,   0.15728475],\n",
       "        [ 25.        ,   0.        ,   0.        ,   5.        ,\n",
       "          16.        ,   1.        ,   0.        ,  11.        ,\n",
       "          21.        ,   0.        ,   0.15349633,   0.17137544,\n",
       "           0.16455103,   0.15422241,   0.13720917,   0.18096256,\n",
       "           0.16457809,   0.17294628,   0.14900591,   0.1637159 ],\n",
       "        [ 40.        ,  23.        ,   0.        ,  21.        ,\n",
       "          15.        ,   0.        ,   0.        ,   9.        ,\n",
       "          44.        ,   3.        ,   0.16187276,   0.16409009,\n",
       "           0.16702262,   0.16605192,   0.14509126,   0.18639207,\n",
       "           0.16544748,   0.17116797,   0.15996895,   0.17143209],\n",
       "        [ 63.        ,  53.        ,   0.        ,  40.        ,\n",
       "          16.        ,   0.        ,   0.        ,  60.        ,\n",
       "          31.        ,   0.        ,   0.17277014,   0.18089064,\n",
       "           0.17491076,   0.1743922 ,   0.15700555,   0.20120581,\n",
       "           0.1673584 ,   0.19025149,   0.15505796,   0.17952671],\n",
       "        [110.        ,  49.        ,   0.        ,  11.        ,\n",
       "          12.        ,   0.        ,   0.        ,  21.        ,\n",
       "          56.        ,   0.        ,   0.15074737,   0.15477055,\n",
       "           0.15050771,   0.15055304,   0.13502243,   0.17964285,\n",
       "           0.16433373,   0.16649525,   0.13802284,   0.15422155],\n",
       "        [ 87.        ,  49.        ,  21.        ,  34.        ,\n",
       "          26.        ,  20.        ,   0.        ,  13.        ,\n",
       "          42.        ,   1.        ,   0.15883645,   0.16116675,\n",
       "           0.1539704 ,   0.15898871,   0.14409732,   0.19183339,\n",
       "           0.16595431,   0.17156325,   0.16466994,   0.16103695],\n",
       "        [ 28.        ,   0.        ,  14.        ,   8.        ,\n",
       "           0.        ,   0.        ,   0.        ,   0.        ,\n",
       "           0.        ,   0.        ,   0.15342947,   0.16713241,\n",
       "           0.15900072,   0.15185385,   0.13564325,   0.17847812,\n",
       "           0.17046579,   0.18253908,   0.18304024,   0.16635392]]),\n",
       " array([[29.        ,  4.        ,  0.        , 11.        , 11.        ,\n",
       "          0.        ,  0.        ,  0.        ,  0.        ,  0.        ,\n",
       "          0.14755869,  0.1653954 ,  0.14589773,  0.14818948,  0.13267673,\n",
       "          0.16154696,  0.15910606,  0.14382039,  0.14236667,  0.15443738],\n",
       "        [ 0.        ,  0.        ,  0.        ,  0.        ,  0.        ,\n",
       "          0.        ,  0.        ,  0.        ,  0.        ,  0.        ,\n",
       "          0.11456558,  0.11322872,  0.09312131,  0.11624283,  0.11302398,\n",
       "          0.11857847,  0.11061114,  0.10263063,  0.10019356,  0.11868477],\n",
       "        [ 0.        ,  0.        ,  0.        ,  0.        ,  0.        ,\n",
       "          0.        ,  0.        ,  0.        ,  0.        ,  0.        ,\n",
       "          0.11933343,  0.1116866 ,  0.09724197,  0.11963689,  0.13334   ,\n",
       "          0.11694056,  0.10323513,  0.10491389,  0.09577969,  0.11273163],\n",
       "        [ 0.        ,  0.        ,  0.        ,  0.        ,  0.        ,\n",
       "          0.        ,  0.        ,  0.        ,  0.        ,  0.        ,\n",
       "          0.08619591,  0.0904365 ,  0.09784274,  0.08541546,  0.08495829,\n",
       "          0.08257832,  0.0900051 ,  0.09417542,  0.10461912,  0.08620331],\n",
       "        [ 0.        ,  0.        ,  0.        ,  0.        ,  0.        ,\n",
       "          0.        ,  0.        ,  0.        ,  0.        ,  0.        ,\n",
       "          0.12836693,  0.13801951,  0.1293602 ,  0.12808439,  0.11929825,\n",
       "          0.13933353,  0.13377295,  0.12529205,  0.11987026,  0.14097706]]),\n",
       " array([[3.40000000e+01, 4.00000000e+00, 0.00000000e+00, 2.70000000e+01,\n",
       "         1.40000000e+01, 0.00000000e+00, 0.00000000e+00, 7.00000000e+00,\n",
       "         2.60000000e+01, 0.00000000e+00, 1.47907209e-01, 1.59526462e-01,\n",
       "         1.47393640e-01, 1.49576273e-01, 1.35344492e-01, 1.61799267e-01,\n",
       "         1.60447888e-01, 1.43275652e-01, 1.43316736e-01, 1.51617329e-01],\n",
       "        [0.00000000e+00, 0.00000000e+00, 0.00000000e+00, 0.00000000e+00,\n",
       "         0.00000000e+00, 0.00000000e+00, 0.00000000e+00, 0.00000000e+00,\n",
       "         0.00000000e+00, 0.00000000e+00, 8.83431383e-02, 9.98235338e-02,\n",
       "         9.63235411e-02, 8.88124984e-02, 8.10985444e-02, 9.03639087e-02,\n",
       "         8.97128313e-02, 9.35044527e-02, 9.20922467e-02, 9.84089544e-02],\n",
       "        [0.00000000e+00, 0.00000000e+00, 0.00000000e+00, 0.00000000e+00,\n",
       "         0.00000000e+00, 0.00000000e+00, 0.00000000e+00, 0.00000000e+00,\n",
       "         0.00000000e+00, 0.00000000e+00, 8.19955141e-02, 8.81083583e-02,\n",
       "         8.52684944e-02, 8.22865044e-02, 7.70020863e-02, 8.72190608e-02,\n",
       "         8.24357379e-02, 8.58615180e-02, 8.03428318e-02, 8.81549608e-02],\n",
       "        [0.00000000e+00, 0.00000000e+00, 0.00000000e+00, 0.00000000e+00,\n",
       "         0.00000000e+00, 0.00000000e+00, 0.00000000e+00, 0.00000000e+00,\n",
       "         0.00000000e+00, 0.00000000e+00, 9.91829410e-02, 1.05227782e-01,\n",
       "         9.69067945e-02, 9.95104681e-02, 9.19777556e-02, 1.06677139e-01,\n",
       "         1.06335537e-01, 1.00957135e-01, 1.03421238e-01, 1.06233869e-01],\n",
       "        [6.40000000e+01, 6.00000000e+00, 2.90000000e+01, 3.00000000e+00,\n",
       "         0.00000000e+00, 0.00000000e+00, 0.00000000e+00, 0.00000000e+00,\n",
       "         0.00000000e+00, 0.00000000e+00, 1.47857573e-01, 1.62896265e-01,\n",
       "         1.44219476e-01, 1.47299782e-01, 1.32804304e-01, 1.74367877e-01,\n",
       "         1.60105642e-01, 1.63857173e-01, 1.64775157e-01, 1.55162025e-01],\n",
       "        [4.80000000e+01, 1.50000000e+01, 1.50000000e+01, 0.00000000e+00,\n",
       "         2.00000000e+00, 0.00000000e+00, 0.00000000e+00, 3.00000000e+00,\n",
       "         0.00000000e+00, 0.00000000e+00, 1.55801889e-01, 1.79250732e-01,\n",
       "         1.75970292e-01, 1.52304881e-01, 1.39649639e-01, 1.73374619e-01,\n",
       "         1.72957181e-01, 1.91725974e-01, 2.01500063e-01, 1.69469184e-01],\n",
       "        [1.10000000e+01, 0.00000000e+00, 2.50000000e+01, 0.00000000e+00,\n",
       "         0.00000000e+00, 0.00000000e+00, 0.00000000e+00, 0.00000000e+00,\n",
       "         0.00000000e+00, 0.00000000e+00, 1.62729553e-01, 1.96722018e-01,\n",
       "         1.72315310e-01, 1.64627622e-01, 1.41176834e-01, 1.75317652e-01,\n",
       "         1.67917235e-01, 1.94881821e-01, 1.92000673e-01, 1.90211168e-01],\n",
       "        [8.40000000e+01, 3.00000000e+01, 7.00000000e+00, 2.90000000e+01,\n",
       "         1.30000000e+01, 1.00000000e+01, 0.00000000e+00, 1.00000000e+01,\n",
       "         6.50000000e+01, 0.00000000e+00, 1.62846934e-01, 1.70639931e-01,\n",
       "         1.42403624e-01, 1.63980315e-01, 1.46064445e-01, 1.93652200e-01,\n",
       "         1.70698183e-01, 1.73391569e-01, 1.64061018e-01, 1.71282936e-01],\n",
       "        [7.70000000e+01, 1.80000000e+01, 1.60000000e+01, 4.40000000e+01,\n",
       "         1.90000000e+01, 0.00000000e+00, 0.00000000e+00, 1.40000000e+01,\n",
       "         9.00000000e+00, 0.00000000e+00, 1.56800204e-01, 1.85775787e-01,\n",
       "         1.63858337e-01, 1.55428356e-01, 1.36708531e-01, 1.77350972e-01,\n",
       "         1.75690332e-01, 1.85259541e-01, 1.85328220e-01, 1.74647086e-01],\n",
       "        [3.10000000e+01, 0.00000000e+00, 0.00000000e+00, 1.30000000e+01,\n",
       "         0.00000000e+00, 0.00000000e+00, 0.00000000e+00, 0.00000000e+00,\n",
       "         0.00000000e+00, 0.00000000e+00, 1.52695995e-01, 1.70852744e-01,\n",
       "         1.54059621e-01, 1.51538265e-01, 1.33582805e-01, 1.76874012e-01,\n",
       "         1.57035339e-01, 1.78987151e-01, 1.72473455e-01, 1.66472634e-01],\n",
       "        [4.40000000e+01, 2.30000000e+01, 0.00000000e+00, 1.00000000e+01,\n",
       "         1.50000000e+01, 5.00000000e+00, 0.00000000e+00, 1.20000000e+01,\n",
       "         1.50000000e+01, 0.00000000e+00, 1.56442209e-01, 1.78736084e-01,\n",
       "         1.63804432e-01, 1.53920957e-01, 1.38795563e-01, 1.79541631e-01,\n",
       "         1.64450931e-01, 1.82088302e-01, 1.75597526e-01, 1.71149608e-01]])]"
      ]
     },
     "execution_count": 138,
     "metadata": {},
     "output_type": "execute_result"
    }
   ],
   "source": [
    "arrls"
   ]
  },
  {
   "cell_type": "code",
   "execution_count": 142,
   "id": "4c0d9ab6",
   "metadata": {
    "scrolled": false
   },
   "outputs": [
    {
     "data": {
      "text/plain": [
       "(11, 20)"
      ]
     },
     "execution_count": 142,
     "metadata": {},
     "output_type": "execute_result"
    }
   ],
   "source": [
    "np.shape(arrls[2])"
   ]
  },
  {
   "cell_type": "code",
   "execution_count": null,
   "id": "19bf8587",
   "metadata": {},
   "outputs": [],
   "source": []
  },
  {
   "cell_type": "code",
   "execution_count": 64,
   "id": "e0b585fb",
   "metadata": {},
   "outputs": [
    {
     "data": {
      "text/plain": [
       "list"
      ]
     },
     "execution_count": 64,
     "metadata": {},
     "output_type": "execute_result"
    }
   ],
   "source": [
    "type(conts)"
   ]
  },
  {
   "cell_type": "code",
   "execution_count": 176,
   "id": "f5fb30a3",
   "metadata": {
    "scrolled": true
   },
   "outputs": [
    {
     "data": {
      "application/vnd.jupyter.widget-view+json": {
       "model_id": "b208a28bcd4f40d0a3ec3c61a33ed19d",
       "version_major": 2,
       "version_minor": 0
      },
      "text/plain": [
       "calculate covariances:   0%|                                                                      | 0/3 [00:00…"
      ]
     },
     "metadata": {},
     "output_type": "display_data"
    },
    {
     "data": {
      "application/vnd.jupyter.widget-view+json": {
       "model_id": "7276a4791c90477babc1757b3c272ff3",
       "version_major": 2,
       "version_minor": 0
      },
      "text/plain": [
       "getting output of TICA:   0%|                                                                     | 0/3 [00:00…"
      ]
     },
     "metadata": {},
     "output_type": "display_data"
    }
   ],
   "source": [
    "tica_dev = pyemma.coordinates.tica(conts,lag=1,dim=4)\n",
    "tica_out = tica_dev.get_output()\n",
    "tica_concatenated = np.concatenate(tica_out)"
   ]
  },
  {
   "cell_type": "code",
   "execution_count": 177,
   "id": "834aa3b6",
   "metadata": {},
   "outputs": [
    {
     "data": {
      "text/plain": [
       "[array([[ 0.0842592 , -0.9113399 , -0.21832518,  0.60538286],\n",
       "        [ 0.56611514, -0.2350031 , -0.4775456 , -0.98159343],\n",
       "        [ 0.7693936 , -0.650998  ,  0.40139922,  1.3266892 ],\n",
       "        [ 1.2582046 , -0.5909134 , -0.6352818 , -1.5671096 ],\n",
       "        [ 1.6236862 ,  0.10014849,  0.7197688 ,  1.3845484 ],\n",
       "        [ 1.7745854 ,  0.36247742, -0.65467995, -0.96699214],\n",
       "        [ 1.630356  ,  0.41655084,  1.2664399 ,  0.46805638],\n",
       "        [ 1.2520213 ,  0.4210912 , -1.5707122 ,  0.10635445],\n",
       "        [ 0.72519624,  0.49529046,  1.6819946 , -0.57092845],\n",
       "        [ 0.38042444,  0.7838772 , -1.4734498 ,  1.0119671 ],\n",
       "        [ 0.1983581 ,  0.8920622 ,  0.8479856 , -0.84636384]],\n",
       "       dtype=float32),\n",
       " array([[-0.84278387, -0.84096086,  0.6935613 ,  1.7872325 ],\n",
       "        [-1.0519991 , -1.0535733 , -0.35857067, -0.973208  ],\n",
       "        [-0.84420884, -1.2844311 , -0.34263903,  0.609625  ],\n",
       "        [-0.64192045, -1.268887  ,  0.87302166, -0.08894872],\n",
       "        [-0.38027072, -1.113438  , -0.611914  , -1.3165214 ]],\n",
       "       dtype=float32),\n",
       " array([[-0.52371633, -0.7716694 ,  1.0722616 ,  0.9824342 ],\n",
       "        [-0.6947104 , -0.9199471 , -0.6110602 , -0.3128631 ],\n",
       "        [-0.17862411, -0.84637684, -0.24666007,  0.3784346 ],\n",
       "        [-0.4042594 , -0.9824112 ,  0.75110406, -0.40733966],\n",
       "        [-0.39684555, -0.13983704, -0.7721062 ,  0.36260226],\n",
       "        [-0.7381376 ,  0.5676792 ,  1.0755694 , -0.38873518],\n",
       "        [-1.0138999 ,  1.0218037 , -1.225532  ,  0.7036978 ],\n",
       "        [-1.0174332 ,  1.433076  ,  1.023773  , -0.83923155],\n",
       "        [-1.0774726 ,  1.4625432 , -0.66654336,  0.25835308],\n",
       "        [-0.93791115,  1.6687254 ,  0.3410218 ,  0.04497314],\n",
       "        [-0.50096744,  1.2235754 ,  0.01780748, -0.32886738]],\n",
       "       dtype=float32)]"
      ]
     },
     "execution_count": 177,
     "metadata": {},
     "output_type": "execute_result"
    }
   ],
   "source": [
    "tica_out"
   ]
  },
  {
   "cell_type": "code",
   "execution_count": 146,
   "id": "aad930cd",
   "metadata": {},
   "outputs": [
    {
     "data": {
      "text/plain": [
       "[array([[ 0.08425922, -0.9113399 , -0.21832485,  0.6053834 ],\n",
       "        [ 0.56611514, -0.23500308, -0.47754604, -0.9815936 ],\n",
       "        [ 0.7693936 , -0.650998  ,  0.40139985,  1.3266894 ],\n",
       "        [ 1.2582046 , -0.5909134 , -0.63528246, -1.5671095 ],\n",
       "        [ 1.6236861 ,  0.10014851,  0.71976936,  1.3845481 ],\n",
       "        [ 1.7745854 ,  0.36247745, -0.65468025, -0.9669918 ],\n",
       "        [ 1.630356  ,  0.41655087,  1.26644   ,  0.46805555],\n",
       "        [ 1.2520213 ,  0.42109123, -1.5707121 ,  0.10635545],\n",
       "        [ 0.72519624,  0.49529046,  1.6819942 , -0.57092935],\n",
       "        [ 0.3804244 ,  0.78387713, -1.4734495 ,  1.0119675 ],\n",
       "        [ 0.1983581 ,  0.8920621 ,  0.8479854 , -0.8463639 ]],\n",
       "       dtype=float32),\n",
       " array([[-0.84278387, -0.84096086,  0.69356203,  1.7872323 ],\n",
       "        [-1.0519991 , -1.0535733 , -0.35857114, -0.9732082 ],\n",
       "        [-0.84420884, -1.2844311 , -0.34263876,  0.6096253 ],\n",
       "        [-0.64192045, -1.268887  ,  0.8730217 , -0.08894879],\n",
       "        [-0.38027072, -1.113438  , -0.61191463, -1.3165218 ]],\n",
       "       dtype=float32),\n",
       " array([[-0.52371633, -0.7716694 ,  1.0722622 ,  0.9824344 ],\n",
       "        [-0.6947104 , -0.9199471 , -0.61106044, -0.31286317],\n",
       "        [-0.1786241 , -0.84637684, -0.24665989,  0.37843475],\n",
       "        [-0.4042594 , -0.9824112 ,  0.75110394, -0.40733993],\n",
       "        [-0.39684555, -0.13983704, -0.77210605,  0.3626027 ],\n",
       "        [-0.7381376 ,  0.5676792 ,  1.0755693 , -0.38873574],\n",
       "        [-1.0138999 ,  1.0218037 , -1.2255318 ,  0.70369804],\n",
       "        [-1.0174333 ,  1.433076  ,  1.0237728 , -0.8392313 ],\n",
       "        [-1.0774726 ,  1.4625432 , -0.6665435 ,  0.2583526 ],\n",
       "        [-0.9379112 ,  1.6687254 ,  0.34102193,  0.04497347],\n",
       "        [-0.5009675 ,  1.2235754 ,  0.0178073 , -0.32886752]],\n",
       "       dtype=float32)]"
      ]
     },
     "execution_count": 146,
     "metadata": {},
     "output_type": "execute_result"
    }
   ],
   "source": [
    "tica_out"
   ]
  },
  {
   "cell_type": "code",
   "execution_count": 155,
   "id": "e8cb0a8c",
   "metadata": {},
   "outputs": [],
   "source": [
    "ls = caller.make_arr(tica_concatenated)"
   ]
  },
  {
   "cell_type": "code",
   "execution_count": 156,
   "id": "1107cbe9",
   "metadata": {},
   "outputs": [
    {
     "data": {
      "image/png": "[encoded data removed]",
      "text/plain": [
       "<Figure size 720x288 with 3 Axes>"
      ]
     },
     "metadata": {
      "needs_background": "light"
     },
     "output_type": "display_data"
    }
   ],
   "source": [
    "fig, axes = plt.subplots(1, 2, figsize=(10, 4))\n",
    "pyemma.plots.plot_feature_histograms(\n",
    "    tica_concatenated,\n",
    "    ax=axes[0],\n",
    "#     feature_labels=['IC1', 'IC2', 'IC3'],\n",
    "    ylog=True, ignore_dim_warning=True)\n",
    "pyemma.plots.plot_density(*tica_concatenated[:, :2].T, ax=axes[1], logscale=True)\n",
    "axes[1].set_xlabel('IC 1')\n",
    "axes[1].set_ylabel('IC 2')\n",
    "fig.tight_layout()\n",
    "# plt.savefig('tica2.png')"
   ]
  },
  {
   "cell_type": "code",
   "execution_count": 34,
   "id": "70f8524f",
   "metadata": {},
   "outputs": [
    {
     "data": {
      "image/png": "[encoded data removed]",
      "text/plain": [
       "<Figure size 864x360 with 6 Axes>"
      ]
     },
     "metadata": {
      "needs_background": "light"
     },
     "output_type": "display_data"
    }
   ],
   "source": [
    "fig, axes = plt.subplots(6, 1, figsize=(12, 5), sharex=True)\n",
    "x = 0.1 * np.arange(tica_out[0].shape[0])\n",
    "for i, (ax, tic) in enumerate(zip(axes.flat, tica_out[0].T)):\n",
    "    ax.plot(x, tic)\n",
    "    ax.set_ylabel('IC {}'.format(i + 1))\n",
    "axes[-1].set_xlabel('time / ns')\n",
    "fig.tight_layout()\n",
    "# plt.savefig('ics2.png')"
   ]
  },
  {
   "cell_type": "code",
   "execution_count": 71,
   "id": "a7da143e",
   "metadata": {},
   "outputs": [
    {
     "data": {
      "application/vnd.jupyter.widget-view+json": {
       "model_id": "7efd39328be447fcba1807abd9f2e35a",
       "version_major": 2,
       "version_minor": 0
      },
      "text/plain": [
       "initialize kmeans++ centers:   0%|                                                                            …"
      ]
     },
     "metadata": {},
     "output_type": "display_data"
    },
    {
     "data": {
      "application/vnd.jupyter.widget-view+json": {
       "model_id": "28bbb01521834ae198a09b53c35b863f",
       "version_major": 2,
       "version_minor": 0
      },
      "text/plain": [
       "kmeans iterations:   0%|                                                                                      …"
      ]
     },
     "metadata": {},
     "output_type": "display_data"
    },
    {
     "data": {
      "application/vnd.jupyter.widget-view+json": {
       "model_id": "b912f20c573e46be8de68450f24ead90",
       "version_major": 2,
       "version_minor": 0
      },
      "text/plain": [
       "getting output of KmeansClustering:   0%|                                                                     …"
      ]
     },
     "metadata": {},
     "output_type": "display_data"
    }
   ],
   "source": [
    "cluster = pyemma.coordinates.cluster_kmeans(\n",
    "    tica_out, k=20, max_iter=100, stride=1, fixed_seed=1)\n",
    "dtrajs_concatenated = np.concatenate(cluster.dtrajs)\n"
   ]
  },
  {
   "cell_type": "code",
   "execution_count": 72,
   "id": "67290b64",
   "metadata": {},
   "outputs": [
    {
     "data": {
      "image/png": "[encoded data removed]",
      "text/plain": [
       "<Figure size 288x288 with 1 Axes>"
      ]
     },
     "metadata": {
      "needs_background": "light"
     },
     "output_type": "display_data"
    }
   ],
   "source": [
    "fig, ax = plt.subplots(figsize=(4, 4))\n",
    "pyemma.plots.plot_density(\n",
    "    *tica_concatenated[:, :2].T, ax=ax, cbar=False, alpha=0.3)\n",
    "ax.scatter(*cluster.clustercenters[:, :2].T, s=5, c='C1')\n",
    "ax.set_xlabel('IC 1')\n",
    "ax.set_ylabel('IC 2')\n",
    "fig.tight_layout()"
   ]
  },
  {
   "cell_type": "code",
   "execution_count": 73,
   "id": "918d2fc1",
   "metadata": {},
   "outputs": [
    {
     "data": {
      "application/vnd.jupyter.widget-view+json": {
       "model_id": "08ad381fbf1d45d58818a6015cee7a4a",
       "version_major": 2,
       "version_minor": 0
      },
      "text/plain": [
       "estimating BayesianMSM:   0%|                                                                                 …"
      ]
     },
     "metadata": {},
     "output_type": "display_data"
    },
    {
     "data": {
      "image/png": "[encoded data removed]",
      "text/plain": [
       "<Figure size 432x288 with 1 Axes>"
      ]
     },
     "metadata": {
      "needs_background": "light"
     },
     "output_type": "display_data"
    }
   ],
   "source": [
    "its = pyemma.msm.its(cluster.dtrajs, lags=40, nits=10, errors='bayes')\n",
    "pyemma.plots.plot_implied_timescales(its, units='ns', dt=0.1);"
   ]
  },
  {
   "cell_type": "code",
   "execution_count": 80,
   "id": "96100cfd",
   "metadata": {},
   "outputs": [
    {
     "data": {
      "application/vnd.jupyter.widget-view+json": {
       "model_id": "ce0ec82425954ff8aa09f330665965d2",
       "version_major": 2,
       "version_minor": 0
      },
      "text/plain": [
       "pyemma.msm.estimators.bayesian_msm.BayesianMSM[40]: compute stat. inefficiencies:   0%|                       …"
      ]
     },
     "metadata": {},
     "output_type": "display_data"
    },
    {
     "data": {
      "application/vnd.jupyter.widget-view+json": {
       "model_id": "21b8bcd5efd84391889581902d8f0579",
       "version_major": 2,
       "version_minor": 0
      },
      "text/plain": [
       "pyemma.msm.estimators.bayesian_msm.BayesianMSM[40]: Sampling MSMs:   0%|                                      …"
      ]
     },
     "metadata": {},
     "output_type": "display_data"
    },
    {
     "name": "stdout",
     "output_type": "stream",
     "text": [
      "fraction of states used = 1.00\n",
      "fraction of counts used = 1.00\n"
     ]
    }
   ],
   "source": [
    "msm = pyemma.msm.bayesian_markov_model(cluster.dtrajs, lag=6, dt_traj='0.2 ns')\n",
    "print('fraction of states used = {:.2f}'.format(msm.active_state_fraction))\n",
    "print('fraction of counts used = {:.2f}'.format(msm.active_count_fraction))"
   ]
  },
  {
   "cell_type": "code",
   "execution_count": 81,
   "id": "555e654b",
   "metadata": {},
   "outputs": [
    {
     "data": {
      "image/png": "[encoded data removed]",
      "text/plain": [
       "<Figure size 720x288 with 2 Axes>"
      ]
     },
     "metadata": {
      "needs_background": "light"
     },
     "output_type": "display_data"
    }
   ],
   "source": [
    "def its_separation_err(ts, ts_err):\n",
    "    \"\"\"\n",
    "    Error propagation from ITS standard deviation to timescale separation.\n",
    "    \"\"\"\n",
    "    return ts[:-1] / ts[1:] * np.sqrt(\n",
    "        (ts_err[:-1] / ts[:-1])**2 + (ts_err[1:] / ts[1:])**2)\n",
    "\n",
    "\n",
    "nits = 10\n",
    "\n",
    "timescales_mean = msm.sample_mean('timescales', k=nits)\n",
    "timescales_std = msm.sample_std('timescales', k=nits)\n",
    "\n",
    "fig, axes = plt.subplots(1, 2, figsize=(10, 4))\n",
    "\n",
    "axes[0].errorbar(\n",
    "    range(1, nits + 1),\n",
    "    timescales_mean,\n",
    "    yerr=timescales_std,\n",
    "    fmt='.', markersize=10)\n",
    "axes[1].errorbar(\n",
    "    range(1, nits),\n",
    "    timescales_mean[:-1] / timescales_mean[1:],\n",
    "    yerr=its_separation_err(\n",
    "        timescales_mean,\n",
    "        timescales_std),\n",
    "    fmt='.',\n",
    "    markersize=10,\n",
    "    color='C0')\n",
    "\n",
    "for i, ax in enumerate(axes):\n",
    "    ax.set_xticks(range(1, nits + 1))\n",
    "    ax.grid(True, axis='x', linestyle=':')\n",
    "\n",
    "axes[0].axhline(msm.lag * 0.1, lw=1.5, color='k')\n",
    "axes[0].axhspan(0, msm.lag * 0.1, alpha=0.3, color='k')\n",
    "axes[0].set_xlabel('implied timescale index')\n",
    "axes[0].set_ylabel('implied timescales / ns')\n",
    "axes[1].set_xticks(range(1, nits))\n",
    "# axes[1].set_xticklabels(\n",
    "#     [\"{:d}/{:d}\".format(k, k + 1) for k in range(1, nits + 2)],\n",
    "#     rotation=45)\n",
    "axes[1].set_xlabel('implied timescale indices')\n",
    "axes[1].set_ylabel('timescale separation')\n",
    "fig.tight_layout()\n",
    "# plt.savefig('spectral2.png')"
   ]
  },
  {
   "cell_type": "code",
   "execution_count": 82,
   "id": "315cabfc",
   "metadata": {},
   "outputs": [
    {
     "data": {
      "application/vnd.jupyter.widget-view+json": {
       "model_id": "0cbca6b480a14ec889fb08be17767641",
       "version_major": 2,
       "version_minor": 0
      },
      "text/plain": [
       "estimating BayesianMSM:   0%|                                                                                 …"
      ]
     },
     "metadata": {},
     "output_type": "display_data"
    },
    {
     "name": "stderr",
     "output_type": "stream",
     "text": [
      "/home/jaybraun/miniconda3/lib/python3.9/site-packages/msmtools/analysis/api.py:367: UserWarning: truncated eigendecomposition to contain 12 components\n",
      "  warnings.warn('truncated eigendecomposition to contain %s components' % new_k, category=UserWarning)\n"
     ]
    },
    {
     "data": {
      "image/png": "[encoded data removed]",
      "text/plain": [
       "<Figure size 648x648 with 9 Axes>"
      ]
     },
     "metadata": {
      "needs_background": "light"
     },
     "output_type": "display_data"
    }
   ],
   "source": [
    "nstates = 3\n",
    "cktest = msm.cktest(nstates, mlags=6)\n",
    "pyemma.plots.plot_cktest(cktest, dt=0.1, units='ns');\n"
   ]
  },
  {
   "cell_type": "code",
   "execution_count": null,
   "id": "de1a1d7f",
   "metadata": {},
   "outputs": [],
   "source": []
  }
 ],
 "metadata": {
  "kernelspec": {
   "display_name": "Python 3 (ipykernel)",
   "language": "python",
   "name": "python3"
  },
  "language_info": {
   "codemirror_mode": {
    "name": "ipython",
    "version": 3
   },
   "file_extension": ".py",
   "mimetype": "text/x-python",
   "name": "python",
   "nbconvert_exporter": "python",
   "pygments_lexer": "ipython3",
   "version": "3.9.7"
  }
 },
 "nbformat": 4,
 "nbformat_minor": 5
}
